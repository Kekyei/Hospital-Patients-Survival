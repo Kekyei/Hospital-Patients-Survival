{
 "cells": [
  {
   "cell_type": "markdown",
   "metadata": {
    "collapsed": false,
    "pycharm": {
     "name": "#%% md\n"
    }
   },
   "source": [
    "# Exploratory Data Analysis\n",
    "\n",
    "---\n",
    "\n",
    "1. Import packages\n",
    "2. Loading data with Pandas\n",
    "3. Descriptive statistics of data\n",
    "4. Data visualization\n",
    "5. Hypothesis investigation\n",
    "\n",
    "---\n",
    "\n",
    "\n",
    "## I. Import packages"
   ]
  },
  {
   "cell_type": "code",
   "execution_count": 6,
   "metadata": {
    "collapsed": false,
    "pycharm": {
     "name": "#%%\n"
    }
   },
   "outputs": [],
   "source": [
    "import matplotlib.pyplot as plt\n",
    "import seaborn as sns\n",
    "import pandas as pd\n",
    "import numpy as np\n",
    "# Shows plots in jupyter notebook\n",
    "%matplotlib inline\n",
    "\n",
    "# Set plot style\n",
    "sns.set(color_codes=True)"
   ]
  },
  {
   "cell_type": "markdown",
   "metadata": {
    "pycharm": {
     "name": "#%% md\n"
    }
   },
   "source": [
    "---\n",
    "\n",
    "## II. Loading data with Pandas\n",
    "\n",
    "We need to load `Test_data.csv` and `pharma_data.csv` into individual dataframes so that we can work with them in Python"
   ]
  },
  {
   "cell_type": "code",
   "execution_count": 7,
   "metadata": {
    "collapsed": false,
    "pycharm": {
     "name": "#%%\n"
    }
   },
   "outputs": [],
   "source": [
    "#Importing datasets\n",
    "pharma_data = pd.read_csv(\"https://raw.githubusercontent.com/dphi-official/Datasets/master/pharma_data/Training_set_begs.csv\")\n",
    "Test_data = pd.read_csv(\"https://raw.githubusercontent.com/dphi-official/Datasets/master/pharma_data/Testing_set_begs.csv\")"
   ]
  },
  {
   "cell_type": "markdown",
   "metadata": {
    "pycharm": {
     "name": "#%% md\n"
    }
   },
   "source": [
    "Looking at the first 5 rows of both dataframes to see what the data looks like"
   ]
  },
  {
   "cell_type": "code",
   "execution_count": 11,
   "metadata": {
    "collapsed": false,
    "pycharm": {
     "name": "#%%\n"
    }
   },
   "outputs": [
    {
     "data": {
      "text/plain": "(23097, 18)"
     },
     "execution_count": 11,
     "metadata": {},
     "output_type": "execute_result"
    }
   ],
   "source": [
    "pharma_data.head()"
   ]
  },
  {
   "cell_type": "code",
   "execution_count": 10,
   "metadata": {
    "pycharm": {
     "name": "#%%\n"
    }
   },
   "outputs": [
    {
     "data": {
      "text/plain": "(9303, 17)"
     },
     "execution_count": 10,
     "metadata": {},
     "output_type": "execute_result"
    }
   ],
   "source": [
    "Test_data.head()"
   ]
  },
  {
   "cell_type": "markdown",
   "metadata": {
    "pycharm": {
     "name": "#%% md\n"
    }
   },
   "source": [
    "With the `pharma_data.csv`, we have a mix of numeric, categorical data and null values which we will need to transform before modelling."
   ]
  },
  {
   "cell_type": "markdown",
   "metadata": {
    "pycharm": {
     "name": "#%% md\n"
    }
   },
   "source": [
    "---\n",
    "\n",
    "## III. Descriptive statistics of data\n",
    "\n",
    "### Data types"
   ]
  },
  {
   "cell_type": "code",
   "execution_count": null,
   "metadata": {
    "collapsed": false,
    "pycharm": {
     "name": "#%%\n"
    }
   },
   "outputs": [],
   "source": [
    "pharma_data.info()"
   ]
  },
  {
   "cell_type": "code",
   "execution_count": null,
   "metadata": {
    "collapsed": false,
    "pycharm": {
     "name": "#%%\n"
    }
   },
   "outputs": [],
   "source": [
    "pharma_data.describe()"
   ]
  },
  {
   "cell_type": "markdown",
   "metadata": {
    "pycharm": {
     "name": "#%% md\n"
    }
   },
   "source": [
    "The describe method gives us a lot of information about the data. The key point to take away from this is that we some  data, as exhibited by std"
   ]
  },
  {
   "cell_type": "markdown",
   "metadata": {
    "pycharm": {
     "name": "#%% md\n"
    }
   },
   "source": [
    "### Missing Values"
   ]
  },
  {
   "cell_type": "code",
   "execution_count": null,
   "metadata": {
    "collapsed": false,
    "pycharm": {
     "name": "#%%\n"
    }
   },
   "outputs": [],
   "source": [
    "#Checking for null values\n",
    "pharma_data.isna().sum()"
   ]
  },
  {
   "cell_type": "markdown",
   "metadata": {
    "pycharm": {
     "name": "#%% md\n"
    }
   },
   "source": [
    "Here, we can see that a handful of columns has null values present."
   ]
  },
  {
   "cell_type": "code",
   "execution_count": null,
   "metadata": {
    "collapsed": false,
    "pycharm": {
     "name": "#%%\n"
    }
   },
   "outputs": [],
   "source": [
    "# Filling null values with the next value on the column\n",
    "pharma_data.Treated_with_drugs.fillna(method = \"pad\",inplace = True)\n",
    "pharma_data.A.fillna(method = \"pad\",inplace = True)\n",
    "pharma_data.B.fillna(method = \"pad\",inplace = True)\n",
    "pharma_data.C.fillna(method = \"pad\",inplace = True)\n",
    "pharma_data.D.fillna(method = \"pad\",inplace = True)\n",
    "pharma_data.E.fillna(method = \"pad\",inplace = True)\n",
    "pharma_data.F.fillna(method = \"pad\",inplace = True)\n",
    "pharma_data.Z.fillna(method = \"pad\",inplace = True)"
   ]
  },
  {
   "cell_type": "code",
   "execution_count": null,
   "metadata": {
    "collapsed": false,
    "pycharm": {
     "name": "#%%\n"
    }
   },
   "outputs": [],
   "source": [
    "# Summing all our columns and using those values as Number_of_prev\n",
    "cols = pharma_data[[\"A\",\"B\",\"C\",\"D\",\"E\",\"F\",\"Z\"]]\n",
    "cols = cols.sum(axis = 1)\n",
    "pharma_data.Number_of_prev_cond = cols"
   ]
  },
  {
   "cell_type": "code",
   "execution_count": null,
   "metadata": {
    "collapsed": false,
    "pycharm": {
     "name": "#%%\n"
    }
   },
   "outputs": [],
   "source": [
    "#Now there are no null values\n",
    "pharma_data.isna().sum()"
   ]
  },
  {
   "cell_type": "markdown",
   "metadata": {
    "collapsed": false,
    "pycharm": {
     "name": "#%% md\n"
    }
   },
   "source": [
    "---\n",
    "## IV. Data visualization\n",
    "\n",
    "Now let's create meaning and conclusions from the dataframes"
   ]
  },
  {
   "cell_type": "markdown",
   "metadata": {
    "collapsed": false,
    "pycharm": {
     "name": "#%% md\n"
    }
   },
   "source": [
    "### 1. Percentage of Survival"
   ]
  },
  {
   "cell_type": "code",
   "execution_count": null,
   "metadata": {
    "collapsed": false,
    "pycharm": {
     "name": "#%%\n"
    }
   },
   "outputs": [],
   "source": [
    "survived = pharma_data[[\"ID_Patient_Care_Situation\",\"Survived_1_year\"]]\n",
    "survived.columns = [\"Patients\",\"Survived\"]\n",
    "survived_total = survived.groupby([\"Survived\"]).count().sort_values(by = \"Patients\",ascending=False)\n",
    "survived_percent = (survived_total/survived_total.sum())*100\n",
    "survived_percent"
   ]
  },
  {
   "cell_type": "code",
   "execution_count": null,
   "metadata": {
    "collapsed": false,
    "pycharm": {
     "name": "#%%\n"
    }
   },
   "outputs": [],
   "source": [
    "survived_percent.transpose().plot.bar(stacked = True,rot = 0)\n",
    "plt.ylabel(\"Patient Percentage\")\n",
    "plt.legend([\"Alive after 1Yr\",\"Dead after 1Yr\"],loc = \"upper right\")\n",
    "plt.show()"
   ]
  },
  {
   "cell_type": "markdown",
   "metadata": {
    "collapsed": false,
    "pycharm": {
     "name": "#%% md\n"
    }
   },
   "source": [
    "About 36% of the total number are dead (8934 patients)"
   ]
  },
  {
   "cell_type": "markdown",
   "metadata": {
    "collapsed": false,
    "pycharm": {
     "name": "#%% md\n"
    }
   },
   "source": [
    "\n",
    "### 2. Patients who smoke\n",
    "\n",
    "Let's see the distribution of the patients who smoke. Since the  data is uni-variate, let's use histograms to visualize their distribution."
   ]
  },
  {
   "cell_type": "code",
   "execution_count": null,
   "metadata": {
    "collapsed": false,
    "pycharm": {
     "name": "#%%\n"
    }
   },
   "outputs": [],
   "source": [
    "#There are rows that indicate \"Cannot Say\". Let's convert all the \"Cannot Say\" categories to YES OR NO\n",
    "pharma_data.Patient_Smoker.replace(\"Cannot say\",\"YES\",inplace = True)\n",
    "pharma_data"
   ]
  },
  {
   "cell_type": "code",
   "execution_count": null,
   "metadata": {
    "collapsed": false,
    "pycharm": {
     "name": "#%%\n"
    }
   },
   "outputs": [],
   "source": [
    "smokers = pharma_data[[\"ID_Patient_Care_Situation\",\"Patient_Smoker\",\"Survived_1_year\"]]\n",
    "smokers.columns = [\"id\",\"Patient_Smoker\",\"Survived\"]\n",
    "smoker_total = smokers.groupby([smokers[\"Patient_Smoker\"],smokers[\"Survived\"]])[\"id\"].count().unstack()\n",
    "smoker_percent =  (smoker_total.div(smoker_total.sum(axis = 1),axis = 0)*100).sort_values(by = 0,ascending = False)\n",
    "smoker_percent"
   ]
  },
  {
   "cell_type": "code",
   "execution_count": null,
   "metadata": {
    "collapsed": false,
    "pycharm": {
     "name": "#%%\n"
    }
   },
   "outputs": [],
   "source": [
    "smoker_percent.plot.bar(stacked = True,rot =0,figsize=(18,10))\n",
    "plt.ylabel(\"Percentage %\")\n",
    "plt.xlabel(\"Patients who smoke\")\n",
    "plt.legend([\"Dead\",\"Alive\"],loc = \"upper center\",fontsize =20)\n",
    "plt.show()"
   ]
  },
  {
   "cell_type": "markdown",
   "metadata": {
    "collapsed": false,
    "pycharm": {
     "name": "#%% md\n"
    }
   },
   "source": [
    "Smoking doesn't affect the rate of a patient's survival that much\n",
    " - 49% of smokers died as 51% of the same smokers survived\n",
    " - 26% of non-smokers dies as 73% of the same non-smokers survived"
   ]
  },
  {
   "cell_type": "markdown",
   "metadata": {
    "collapsed": false,
    "pycharm": {
     "name": "#%% md\n"
    }
   },
   "source": [
    "### 3. RURAL or URBAN community"
   ]
  },
  {
   "cell_type": "code",
   "execution_count": null,
   "metadata": {
    "collapsed": false,
    "pycharm": {
     "name": "#%%\n"
    }
   },
   "outputs": [],
   "source": [
    "Rural_urban = pharma_data[[\"ID_Patient_Care_Situation\",\"Patient_Rural_Urban\",\"Survived_1_year\"]]\n",
    "Rural_urban.columns = [\"id\",\"Patient_Rural_Urban\",\"Survival\"]\n",
    "Rural_urban_total = Rural_urban.groupby([Rural_urban[\"Patient_Rural_Urban\"],Rural_urban[\"Survival\"]])[\"id\"].count().unstack()\n",
    "Rural_urban_percent = (Rural_urban_total.div(Rural_urban_total.sum(axis = 1),axis = 0)*100).sort_values(by = 0,ascending = False)\n",
    "Rural_urban_percent"
   ]
  },
  {
   "cell_type": "code",
   "execution_count": null,
   "metadata": {
    "collapsed": false,
    "pycharm": {
     "name": "#%%\n"
    }
   },
   "outputs": [],
   "source": [
    "Rural_urban_percent.plot.bar(stacked = True,rot = 0,figsize=(15,15))\n",
    "plt.legend([\"Dead\",\"Alive\"],loc = \"upper center\",fontsize =18)\n",
    "plt.ylabel(\"Percentage %\")\n",
    "plt.xlabel(\"Part of Country\")\n",
    "plt.show()"
   ]
  },
  {
   "cell_type": "markdown",
   "metadata": {
    "collapsed": false,
    "pycharm": {
     "name": "#%% md\n"
    }
   },
   "source": [
    "Rural\n",
    "- 66% of Rural Residents survived\n",
    "- 33% of Urban Residents died\n",
    "\n",
    "Urban\n",
    "- 54% of Urban Residents survived\n",
    "- 45% of Urban Residents died\n"
   ]
  },
  {
   "cell_type": "markdown",
   "metadata": {
    "collapsed": false,
    "pycharm": {
     "name": "#%% md\n"
    }
   },
   "source": [
    "### 4. Patients with previous category of condition"
   ]
  },
  {
   "cell_type": "code",
   "execution_count": null,
   "metadata": {
    "collapsed": false,
    "pycharm": {
     "name": "#%%\n"
    }
   },
   "outputs": [],
   "source": [
    "Prev_con = pharma_data[[\"ID_Patient_Care_Situation\",\"Number_of_prev_cond\",\"Survived_1_year\"]]\n",
    "Prev_con.columns = [\"id\",\"Previous_con\",\"Survival\"]\n",
    "Prev_con_total = Prev_con.groupby([Prev_con[\"Previous_con\"],Prev_con[\"Survival\"]])[\"id\"].count().unstack()\n",
    "Prev_con_percent = (Prev_con_total.div(Prev_con_total.sum(axis = 1),axis = 0)*100).sort_values(by = 0,ascending = True)\n",
    "Prev_con_percent"
   ]
  },
  {
   "cell_type": "code",
   "execution_count": null,
   "metadata": {
    "collapsed": false,
    "pycharm": {
     "name": "#%%\n"
    }
   },
   "outputs": [],
   "source": [
    "Prev_con_percent.plot.bar(stacked = True,rot = 0,figsize=(10,10))\n",
    "plt.legend([\"Dead\",\"Alive\"],loc = \"lower right\",fontsize = 15)\n",
    "plt.ylabel(\"Percentage %\")\n",
    "plt.xlabel(\"Number of Previous Conditions\")\n",
    "plt.show()\n"
   ]
  },
  {
   "cell_type": "markdown",
   "metadata": {
    "collapsed": false,
    "pycharm": {
     "name": "#%% md\n"
    }
   },
   "source": [
    "---\n",
    "This clearly shows the relationship between number of previous conditions and rate of survival\n",
    "The more the number of previous conditions, the more the rate to death\n",
    "- 94% of those with 5 previous conditions died\n",
    "- 59% of those with 4 previous conditions died\n",
    "- 41% of those with 3 previous conditions died\n",
    "- 36% of those with 2 previous conditions died\n",
    "- 34% of those with 1 previous condition died\n"
   ]
  },
  {
   "cell_type": "markdown",
   "metadata": {
    "collapsed": false,
    "pycharm": {
     "name": "#%% md\n"
    }
   },
   "source": [
    "### 5. Different Category of Previous Conditions"
   ]
  },
  {
   "cell_type": "code",
   "execution_count": null,
   "metadata": {
    "collapsed": false,
    "pycharm": {
     "name": "#%%\n"
    }
   },
   "outputs": [],
   "source": [
    "cat_prev_condition = pharma_data[[\"ID_Patient_Care_Situation\",\"A\",\"B\",\"C\",\"D\",\"E\",\"F\",\"Z\"]]\n",
    "cat_prev_condition = cat_prev_condition.replace(0,np.nan)\n",
    "cat_prev_condition[\"Survival\"] = pharma_data.Survived_1_year\n",
    "cat_prev_condition"
   ]
  },
  {
   "cell_type": "code",
   "execution_count": null,
   "metadata": {
    "collapsed": false,
    "pycharm": {
     "name": "#%%\n"
    }
   },
   "outputs": [],
   "source": [
    "\n",
    "a = cat_prev_condition.groupby([cat_prev_condition[\"A\"],cat_prev_condition[\"Survival\"]])[\"ID_Patient_Care_Situation\"].count().unstack()\n",
    "b = cat_prev_condition.groupby([cat_prev_condition[\"B\"],cat_prev_condition[\"Survival\"]])[\"ID_Patient_Care_Situation\"].count().unstack()\n",
    "c = cat_prev_condition.groupby([cat_prev_condition[\"C\"],cat_prev_condition[\"Survival\"]])[\"ID_Patient_Care_Situation\"].count().unstack()\n",
    "d = cat_prev_condition.groupby([cat_prev_condition[\"D\"],cat_prev_condition[\"Survival\"]])[\"ID_Patient_Care_Situation\"].count().unstack()\n",
    "e = cat_prev_condition.groupby([cat_prev_condition[\"E\"],cat_prev_condition[\"Survival\"]])[\"ID_Patient_Care_Situation\"].count().unstack()\n",
    "f = cat_prev_condition.groupby([cat_prev_condition[\"F\"],cat_prev_condition[\"Survival\"]])[\"ID_Patient_Care_Situation\"].count().unstack()\n",
    "z = cat_prev_condition.groupby([cat_prev_condition[\"Z\"],cat_prev_condition[\"Survival\"]])[\"ID_Patient_Care_Situation\"].count().unstack()"
   ]
  },
  {
   "cell_type": "code",
   "execution_count": null,
   "metadata": {
    "collapsed": false,
    "pycharm": {
     "name": "#%%\n"
    }
   },
   "outputs": [],
   "source": [
    "a_percent = (a.div(a.sum(axis = 1),axis = 0)*100)\n",
    "b_percent = (b.div(b.sum(axis = 1),axis = 0)*100)\n",
    "c_percent = (c.div(c.sum(axis = 1),axis = 0)*100)\n",
    "d_percent = (d.div(d.sum(axis = 1),axis = 0)*100)\n",
    "e_percent = (e.div(e.sum(axis = 1),axis = 0)*100)\n",
    "f_percent = (f.div(f.sum(axis = 1),axis = 0)*100)\n",
    "z_percent = (z.div(z.sum(axis = 1),axis = 0)*100)"
   ]
  },
  {
   "cell_type": "code",
   "execution_count": null,
   "metadata": {
    "collapsed": false,
    "pycharm": {
     "name": "#%%\n"
    }
   },
   "outputs": [],
   "source": [
    "a_percent.index = [\"A\"]\n",
    "b_percent.index = [\"B\"]\n",
    "c_percent.index = [\"C\"]\n",
    "d_percent.index = [\"D\"]\n",
    "e_percent.index = [\"E\"]\n",
    "f_percent.index = [\"F\"]\n",
    "z_percent.index = [\"Z\"]"
   ]
  },
  {
   "cell_type": "code",
   "execution_count": null,
   "metadata": {
    "collapsed": false,
    "pycharm": {
     "name": "#%%\n"
    }
   },
   "outputs": [],
   "source": [
    "sets = [a_percent,b_percent,c_percent,d_percent,e_percent,f_percent,z_percent]\n",
    "result = pd.concat(sets).sort_values(by = 1,ascending=False)\n",
    "result"
   ]
  },
  {
   "cell_type": "code",
   "execution_count": null,
   "metadata": {
    "collapsed": false,
    "pycharm": {
     "name": "#%%\n"
    }
   },
   "outputs": [],
   "source": [
    "result.plot.bar(stacked = True,rot = 0,figsize=(18,10))\n",
    "plt.legend([\"Dead\",\"Alive\"],loc = \"upper right\",fontsize =25)\n",
    "plt.ylabel(\"Percentage %\")\n",
    "plt.xlabel(\"Patients with the Different Categories of Previous Diseases \")\n",
    "plt.show()"
   ]
  },
  {
   "cell_type": "markdown",
   "metadata": {
    "collapsed": false,
    "pycharm": {
     "name": "#%% md\n"
    }
   },
   "source": [
    "---\n",
    "This clearly shows the relationship between the rate of survival and the class of Previous condition they had\n",
    "- 100% of those with condition Z survived\n",
    "- 64% of those with condition E survived\n",
    "- 63% of those with condition F survived"
   ]
  },
  {
   "cell_type": "markdown",
   "metadata": {
    "collapsed": false,
    "pycharm": {
     "name": "#%% md\n"
    }
   },
   "source": [
    "### 7.Treated with Drugs"
   ]
  },
  {
   "cell_type": "code",
   "execution_count": null,
   "metadata": {
    "collapsed": false,
    "pycharm": {
     "name": "#%%\n"
    }
   },
   "outputs": [],
   "source": [
    "drugs = pharma_data[[\"ID_Patient_Care_Situation\",\"Treated_with_drugs\",\"Survived_1_year\"]]\n",
    "drugs.columns = [\"id\",\"drugs\",\"Survival\"]\n",
    "drugs_total = drugs.groupby([drugs[\"drugs\"],drugs[\"Survival\"]])[\"id\"].count().unstack()\n",
    "drugs_percent = (drugs_total.div(drugs_total.sum(axis = 1),axis = 0)*100).sort_values(by = 1,ascending = False)\n",
    "drugs_percent"
   ]
  },
  {
   "cell_type": "code",
   "execution_count": null,
   "metadata": {
    "collapsed": false,
    "pycharm": {
     "name": "#%%\n"
    }
   },
   "outputs": [],
   "source": [
    "drugs_percent.plot.bar(stacked=True, rot=\"vertical\", figsize=(20, 20))\n",
    "plt.legend([\"Dead\", \"Alive\"], loc=\"upper center\", fontsize=18)\n",
    "plt.ylabel(\"Percentage %\")\n",
    "plt.xlabel(\"drugs\")\n",
    "plt.show()"
   ]
  },
  {
   "cell_type": "markdown",
   "metadata": {
    "collapsed": false,
    "pycharm": {
     "name": "#%% md\n"
    }
   },
   "source": [
    "Class of drugs used during treatment\n",
    "- DX1 has 74% of Survivors\n",
    "- DX2 has 71% of Survivors\n",
    "- DX3 has 73% of Survivors\n",
    "\n",
    "FOR DRUG COMBINATIONS the top 3 contributors of survivors are;\n",
    "\n",
    "- DX1,DX2,DX3,DX4,DX5 has 100% survivors\n",
    "- DX1,DX4,DX5 has 93% survivors\n",
    "- DX2,DX5 has 88% survivors"
   ]
  },
  {
   "cell_type": "markdown",
   "metadata": {
    "collapsed": false,
    "pycharm": {
     "name": "#%% md\n"
    }
   },
   "source": [
    "### 8.Diagnosed Condition"
   ]
  },
  {
   "cell_type": "code",
   "execution_count": null,
   "metadata": {
    "collapsed": false,
    "pycharm": {
     "name": "#%%\n"
    }
   },
   "outputs": [],
   "source": [
    "diagnosed = pharma_data[[\"ID_Patient_Care_Situation\",\"Diagnosed_Condition\",\"Survived_1_year\"]]\n",
    "diagnosed.columns = [\"id\",\"Diagnosed\",\"Survival\"]\n",
    "new_df = pd.DataFrame({\"Survived\":diagnosed[diagnosed[\"Survival\"]==1][\"Diagnosed\"],\n",
    "                    \"Died\":diagnosed[diagnosed[\"Survival\"]==0][\"Diagnosed\"]\n",
    "\n",
    "                    })\n",
    "new_df"
   ]
  },
  {
   "cell_type": "code",
   "execution_count": null,
   "metadata": {
    "collapsed": false,
    "pycharm": {
     "name": "#%%\n"
    }
   },
   "outputs": [],
   "source": [
    "new_df[[\"Survived\",\"Died\"]].plot.hist(stacked = True)\n",
    "plt.xlabel(\"Diagnosed Condition\")\n",
    "plt.show()"
   ]
  },
  {
   "cell_type": "markdown",
   "metadata": {
    "collapsed": false,
    "pycharm": {
     "name": "#%% md\n"
    }
   },
   "source": [
    "### 9. Patient Age"
   ]
  },
  {
   "cell_type": "code",
   "execution_count": null,
   "metadata": {
    "collapsed": false,
    "pycharm": {
     "name": "#%%\n"
    }
   },
   "outputs": [],
   "source": [
    "age_pd = pharma_data[[\"ID_Patient_Care_Situation\",\"Patient_Age\",\"Survived_1_year\"]]\n",
    "age_pd.columns = [\"id\",\"Age\",\"Survival\"]\n",
    "age = pd.DataFrame({\"Survived\":age_pd[age_pd[\"Survival\"]==1][\"Age\"],\n",
    "                     \"Died\":age_pd[age_pd[\"Survival\"]==0][\"Age\"]\n",
    "\n",
    "})\n",
    "age"
   ]
  },
  {
   "cell_type": "code",
   "execution_count": null,
   "metadata": {
    "collapsed": false,
    "pycharm": {
     "name": "#%%\n"
    }
   },
   "outputs": [],
   "source": [
    "age[[\"Survived\",\"Died\"]].plot.hist(stacked = True)\n",
    "plt.xlabel(\"Age\")\n",
    "plt.show()"
   ]
  },
  {
   "cell_type": "code",
   "execution_count": null,
   "metadata": {
    "collapsed": false,
    "pycharm": {
     "name": "#%%\n"
    }
   },
   "outputs": [],
   "source": [
    "#We will annotate to see which condition has the most survivors"
   ]
  },
  {
   "cell_type": "markdown",
   "metadata": {
    "collapsed": false,
    "pycharm": {
     "name": "#%% md\n"
    }
   },
   "source": [
    "### 10. Body Mass Ratio"
   ]
  },
  {
   "cell_type": "code",
   "execution_count": null,
   "metadata": {
    "collapsed": false,
    "pycharm": {
     "name": "#%%\n"
    }
   },
   "outputs": [],
   "source": [
    "bmr = pharma_data[[\"ID_Patient_Care_Situation\",\"Patient_Body_Mass_Index\",\"Survived_1_year\"]]\n",
    "bmr.columns = [\"id\",\"Patient_Body_Mass_Index\",\"Survival\"]\n",
    "new = pd.DataFrame({\"Survived\":bmr[bmr[\"Survival\"]==1][\"Patient_Body_Mass_Index\"],\n",
    "                     \"Died\":bmr[bmr[\"Survival\"]==0][\"Patient_Body_Mass_Index\"]\n",
    "\n",
    "                     })\n",
    "new"
   ]
  },
  {
   "cell_type": "code",
   "execution_count": null,
   "metadata": {
    "collapsed": false,
    "pycharm": {
     "name": "#%%\n"
    }
   },
   "outputs": [],
   "source": [
    "new[[\"Survived\",\"Died\"]].plot.hist(stacked = True)\n",
    "plt.xlabel(\"Patient_Body_Mass_Index\")\n",
    "plt.show()"
   ]
  },
  {
   "cell_type": "markdown",
   "metadata": {
    "collapsed": false,
    "pycharm": {
     "name": "#%% md\n"
    }
   },
   "source": [
    "Clearly,`Patient_Body_Mass_Index` and `Patient_Age`data is highly negatively skewed, presenting a very long right-tail towards the higher values of the distribution. The values on the left are likely to be outliers. We can use a standard plot to visualise the outliers in more detail. A boxplot is a standardized way of displaying the distribution based on a five number summary:\n",
    "- Minimum\n",
    "- First quartile (Q1)\n",
    "- Median\n",
    "- Third quartile (Q3)\n",
    "- Maximum\n",
    "\n",
    "It can reveal outliers and what their values are. It can also tell us if our data is symmetrical, how tightly our data is grouped and if/how our data is skewed."
   ]
  },
  {
   "cell_type": "code",
   "execution_count": null,
   "metadata": {
    "collapsed": false,
    "pycharm": {
     "name": "#%%\n"
    }
   },
   "outputs": [],
   "source": [
    "import warnings\n",
    "warnings.filterwarnings(\"ignore\", category=FutureWarning)\n",
    "# Plotting a boxplot\n",
    "fig, axs = plt.subplots(nrows=2, figsize=(20,15))\n",
    "sns.boxplot(bmr[\"Patient_Body_Mass_Index\"],ax=axs[0])\n",
    "sns.boxplot(age_pd[\"Age\"],ax=axs[1])\n",
    "plt.plot()"
   ]
  },
  {
   "cell_type": "markdown",
   "metadata": {
    "collapsed": false,
    "pycharm": {
     "name": "#%% md\n"
    }
   },
   "source": [
    "Looks like there are outliers and skewness, and we will deal with them in the feature engineering"
   ]
  },
  {
   "cell_type": "markdown",
   "metadata": {
    "collapsed": false,
    "pycharm": {
     "name": "#%% md\n"
    }
   },
   "source": [
    "---\n",
    "## V. FEATURE ENGINEERING\n",
    "#### Transforming Boolean Data"
   ]
  },
  {
   "cell_type": "code",
   "execution_count": null,
   "metadata": {
    "collapsed": false,
    "pycharm": {
     "name": "#%%\n"
    }
   },
   "outputs": [],
   "source": [
    "pharma_data[\"Patient_Smoker\"] = pharma_data.Patient_Smoker.replace([\"YES\",\"NO\"],[1,0])"
   ]
  },
  {
   "cell_type": "code",
   "execution_count": null,
   "metadata": {
    "collapsed": false,
    "pycharm": {
     "name": "#%%\n"
    }
   },
   "outputs": [],
   "source": [
    "pharma_data.groupby([\"Patient_Smoker\"]).agg({\"Survived_1_year\":\"mean\"})"
   ]
  },
  {
   "cell_type": "markdown",
   "metadata": {
    "collapsed": false,
    "pycharm": {
     "name": "#%% md\n"
    }
   },
   "source": [
    "It is obvious that being a patient smoker affects their tendency to survive."
   ]
  },
  {
   "cell_type": "markdown",
   "metadata": {
    "collapsed": false,
    "pycharm": {
     "name": "#%% md\n"
    }
   },
   "source": [
    "#### Transforming numerical data\n",
    "In EDA some variables were highly skewed. The reason why we need to treat skewness is because some predictive models have inherent assumptions about the distribution of the features that are being supplied to it. Such models are called parametric models, and they typically assume that all variables are both independent and normally distributed.\n",
    "\n",
    "Skewness isn’t always a bad thing, but as a rule of thumb it is always good practice to treat highly skewed variables because of the reason stated above, but also as it can improve the speed at which predictive models are able to converge to its best solution.\n",
    "\n",
    "There are many ways that you can treat skewed variables. You can apply transformations such as:\n",
    "Square root\n",
    "Cubic root\n",
    "Logarithm\n",
    " For this use case we will use the ‘Logarithm’ transformation for the positively skewed features.\n",
    "Note: We cannot apply log to a value of 0, so we will add a constant of 1 to all the values\n",
    "First I want to see the statistics of the skewed features, so that we can compare before and after transformation"
   ]
  },
  {
   "cell_type": "code",
   "execution_count": null,
   "metadata": {
    "collapsed": false,
    "pycharm": {
     "name": "#%%\n"
    }
   },
   "outputs": [],
   "source": [
    "pharma_data[[\"Patient_Age\",\"Patient_Body_Mass_Index\",\"Diagnosed_Condition\"]].describe()"
   ]
  },
  {
   "cell_type": "code",
   "execution_count": null,
   "metadata": {
    "collapsed": false,
    "pycharm": {
     "name": "#%%\n"
    }
   },
   "outputs": [],
   "source": [
    "pharma_data[\"Patient_Age\"] = np.log10(pharma_data[\"Patient_Age\"] + 1)\n",
    "pharma_data[\"Patient_Body_Mass_Index\"] = np.log10(pharma_data[\"Patient_Body_Mass_Index\"] + 1)\n",
    "pharma_data[\"Diagnosed_Condition\"] = np.log10(pharma_data[\"Diagnosed_Condition\"] + 1)\n",
    "#Checking the skewness now\n",
    "pharma_data[[\"Patient_Age\",\"Patient_Body_Mass_Index\",\"Diagnosed_Condition\"]].describe()"
   ]
  },
  {
   "cell_type": "code",
   "execution_count": null,
   "metadata": {
    "collapsed": false,
    "pycharm": {
     "name": "#%%\n"
    }
   },
   "outputs": [],
   "source": [
    "fig, axs = plt.subplots(nrows=3,figsize=(18,18))\n",
    "# Plot histograms\n",
    "sns.distplot((pharma_data[\"Patient_Age\"].dropna()), ax=axs[0])\n",
    "sns.distplot((pharma_data[\"Patient_Body_Mass_Index\"].dropna()), ax=axs[1])\n",
    "sns.distplot((pharma_data[\"Diagnosed_Condition\"].dropna()), ax=axs[2])\n",
    "plt.show()"
   ]
  },
  {
   "cell_type": "markdown",
   "metadata": {
    "collapsed": false,
    "pycharm": {
     "name": "#%% md\n"
    }
   },
   "source": [
    "#### TRANSFORMING CATEGORICAL DATA"
   ]
  },
  {
   "cell_type": "markdown",
   "metadata": {
    "collapsed": false,
    "pycharm": {
     "name": "#%% md\n"
    }
   },
   "source": [
    "A predictive model cannot accept categorical or string values.\n",
    "The simplest method is to map each category to an integer (label encoding/Ordinal encoding), however this is not always appropriate beecause it then introduces the concept of an order into a feature which may not inherently be present 0 < 1 < 2 < 3 ...\n",
    "Another way to encode categorical features is to use dummy variables AKA one hot encoding. This create a new feature for every unique value of a categorical column, and fills this column with either a 1 or a 0 to indicate that this company does or does not belong to this category."
   ]
  },
  {
   "cell_type": "code",
   "execution_count": null,
   "metadata": {
    "collapsed": false,
    "pycharm": {
     "name": "#%%\n"
    }
   },
   "outputs": [],
   "source": [
    "pharma_data.Patient_Rural_Urban = pharma_data.Patient_Rural_Urban.astype(\"category\")\n",
    "pharma_data.Treated_with_drugs = pharma_data.Treated_with_drugs.astype(\"category\")\n",
    "pharma_data.Number_of_prev_cond = pharma_data.Number_of_prev_cond.astype(\"category\")\n",
    "pharma_data.Diagnosed_Condition = pharma_data.Diagnosed_Condition.astype(\"category\")\n",
    "pharma_data.Patient_Age = pharma_data.Patient_Age.astype(\"category\")\n",
    "pharma_data"
   ]
  },
  {
   "cell_type": "code",
   "execution_count": null,
   "metadata": {
    "collapsed": false,
    "pycharm": {
     "name": "#%%\n"
    }
   },
   "outputs": [],
   "source": [
    "pharma_data = pd.get_dummies(pharma_data,columns=[\"Patient_Rural_Urban\",\n",
    "                                                  \"Treated_with_drugs\",\n",
    "                                                  \"Number_of_prev_cond\",\n",
    "                                                  \"Diagnosed_Condition\",\n",
    "                                                  \"Patient_Age\"\n",
    "\n",
    "\n",
    "])\n",
    "pharma_data"
   ]
  },
  {
   "cell_type": "markdown",
   "metadata": {
    "collapsed": false,
    "pycharm": {
     "name": "#%% md\n"
    }
   },
   "source": [
    "We have 2 categories, so we will create 2 dummy variables from this column"
   ]
  },
  {
   "cell_type": "markdown",
   "metadata": {
    "collapsed": false,
    "pycharm": {
     "name": "#%% md\n"
    }
   },
   "source": [
    "Now we can see that for the majority of the features, their standard deviation is much lower after transformation. This is a good thing, it shows that these features are more stable and predictable now. Let’s quickly check the distributions of some of these features too."
   ]
  },
  {
   "cell_type": "markdown",
   "metadata": {
    "collapsed": false,
    "pycharm": {
     "name": "#%% md\n"
    }
   },
   "source": []
  },
  {
   "cell_type": "markdown",
   "metadata": {
    "collapsed": false,
    "pycharm": {
     "name": "#%% md\n"
    }
   },
   "source": [
    "# MODEL"
   ]
  },
  {
   "cell_type": "markdown",
   "metadata": {
    "collapsed": false,
    "pycharm": {
     "name": "#%% md\n"
    }
   },
   "source": [
    "\n",
    "We now have a dataset containing features that we have engineered and we are ready to start training a predictive model. We are only focused on training a Random Forest classifier."
   ]
  },
  {
   "cell_type": "code",
   "execution_count": 13,
   "metadata": {
    "collapsed": false,
    "pycharm": {
     "name": "#%%\n"
    }
   },
   "outputs": [],
   "source": [
    "from sklearn.model_selection import train_test_split\n",
    "from sklearn import metrics\n",
    "from sklearn.ensemble import RandomForestClassifier"
   ]
  },
  {
   "cell_type": "markdown",
   "metadata": {
    "collapsed": false,
    "pycharm": {
     "name": "#%% md\n"
    }
   },
   "source": [
    "### Data sampling\n",
    "The first thing we want to do is split our dataset into training and test samples. The reason why we do this, is so that we can simulate a real life situation by generating predictions for our test sample, without showing the predictive model these data points. This gives us the ability to see how well our model is able to generalise to new data, which is critical."
   ]
  },
  {
   "cell_type": "code",
   "execution_count": 14,
   "metadata": {
    "collapsed": false,
    "pycharm": {
     "name": "#%%\n"
    }
   },
   "outputs": [],
   "source": [
    "target = pharma_data[\"Survived_1_year\"]\n",
    "feature = pharma_data.drop(columns = [\"Patient_ID\",\n",
    "                                      \"ID_Patient_Care_Situation\",\n",
    "                                      \"Survived_1_year\",\n",
    "                                      \"Patient_mental_condition\"\n",
    "])"
   ]
  },
  {
   "cell_type": "code",
   "execution_count": 15,
   "metadata": {
    "collapsed": false,
    "pycharm": {
     "name": "#%%\n"
    }
   },
   "outputs": [],
   "source": [
    "print(target.shape)\n",
    "print(feature.shape)"
   ]
  },
  {
   "cell_type": "code",
   "execution_count": 16,
   "metadata": {
    "collapsed": false,
    "pycharm": {
     "name": "#%%\n"
    }
   },
   "outputs": [
    {
     "ename": "ValueError",
     "evalue": "Found input variables with inconsistent numbers of samples: [9303, 23097]",
     "output_type": "error",
     "traceback": [
      "\u001B[1;31m---------------------------------------------------------------------------\u001B[0m",
      "\u001B[1;31mValueError\u001B[0m                                Traceback (most recent call last)",
      "Cell \u001B[1;32mIn [16], line 2\u001B[0m\n\u001B[0;32m      1\u001B[0m \u001B[38;5;66;03m#Divide feature and target into train and test\u001B[39;00m\n\u001B[1;32m----> 2\u001B[0m feature_train,feature_test,target_train,target_test \u001B[38;5;241m=\u001B[39m \u001B[43mtrain_test_split\u001B[49m\u001B[43m(\u001B[49m\u001B[43mTest_data\u001B[49m\u001B[43m,\u001B[49m\u001B[43mpharma_data\u001B[49m\u001B[43m,\u001B[49m\u001B[43mtest_size\u001B[49m\u001B[38;5;241;43m=\u001B[39;49m\u001B[38;5;241;43m25\u001B[39;49m\u001B[43m,\u001B[49m\u001B[43mrandom_state\u001B[49m\u001B[38;5;241;43m=\u001B[39;49m\u001B[38;5;241;43m42\u001B[39;49m\u001B[43m)\u001B[49m\n",
      "File \u001B[1;32m~\\AppData\\Local\\Programs\\Python\\Python38\\lib\\site-packages\\sklearn\\model_selection\\_split.py:2127\u001B[0m, in \u001B[0;36mtrain_test_split\u001B[1;34m(*arrays, **options)\u001B[0m\n\u001B[0;32m   2124\u001B[0m \u001B[38;5;28;01mif\u001B[39;00m options:\n\u001B[0;32m   2125\u001B[0m     \u001B[38;5;28;01mraise\u001B[39;00m \u001B[38;5;167;01mTypeError\u001B[39;00m(\u001B[38;5;124m\"\u001B[39m\u001B[38;5;124mInvalid parameters passed: \u001B[39m\u001B[38;5;132;01m%s\u001B[39;00m\u001B[38;5;124m\"\u001B[39m \u001B[38;5;241m%\u001B[39m \u001B[38;5;28mstr\u001B[39m(options))\n\u001B[1;32m-> 2127\u001B[0m arrays \u001B[38;5;241m=\u001B[39m \u001B[43mindexable\u001B[49m\u001B[43m(\u001B[49m\u001B[38;5;241;43m*\u001B[39;49m\u001B[43marrays\u001B[49m\u001B[43m)\u001B[49m\n\u001B[0;32m   2129\u001B[0m n_samples \u001B[38;5;241m=\u001B[39m _num_samples(arrays[\u001B[38;5;241m0\u001B[39m])\n\u001B[0;32m   2130\u001B[0m n_train, n_test \u001B[38;5;241m=\u001B[39m _validate_shuffle_split(n_samples, test_size, train_size,\n\u001B[0;32m   2131\u001B[0m                                           default_test_size\u001B[38;5;241m=\u001B[39m\u001B[38;5;241m0.25\u001B[39m)\n",
      "File \u001B[1;32m~\\AppData\\Local\\Programs\\Python\\Python38\\lib\\site-packages\\sklearn\\utils\\validation.py:292\u001B[0m, in \u001B[0;36mindexable\u001B[1;34m(*iterables)\u001B[0m\n\u001B[0;32m    280\u001B[0m \u001B[38;5;124;03m\"\"\"Make arrays indexable for cross-validation.\u001B[39;00m\n\u001B[0;32m    281\u001B[0m \n\u001B[0;32m    282\u001B[0m \u001B[38;5;124;03mChecks consistent length, passes through None, and ensures that everything\u001B[39;00m\n\u001B[1;32m   (...)\u001B[0m\n\u001B[0;32m    289\u001B[0m \u001B[38;5;124;03m    List of objects to ensure sliceability.\u001B[39;00m\n\u001B[0;32m    290\u001B[0m \u001B[38;5;124;03m\"\"\"\u001B[39;00m\n\u001B[0;32m    291\u001B[0m result \u001B[38;5;241m=\u001B[39m [_make_indexable(X) \u001B[38;5;28;01mfor\u001B[39;00m X \u001B[38;5;129;01min\u001B[39;00m iterables]\n\u001B[1;32m--> 292\u001B[0m \u001B[43mcheck_consistent_length\u001B[49m\u001B[43m(\u001B[49m\u001B[38;5;241;43m*\u001B[39;49m\u001B[43mresult\u001B[49m\u001B[43m)\u001B[49m\n\u001B[0;32m    293\u001B[0m \u001B[38;5;28;01mreturn\u001B[39;00m result\n",
      "File \u001B[1;32m~\\AppData\\Local\\Programs\\Python\\Python38\\lib\\site-packages\\sklearn\\utils\\validation.py:255\u001B[0m, in \u001B[0;36mcheck_consistent_length\u001B[1;34m(*arrays)\u001B[0m\n\u001B[0;32m    253\u001B[0m uniques \u001B[38;5;241m=\u001B[39m np\u001B[38;5;241m.\u001B[39munique(lengths)\n\u001B[0;32m    254\u001B[0m \u001B[38;5;28;01mif\u001B[39;00m \u001B[38;5;28mlen\u001B[39m(uniques) \u001B[38;5;241m>\u001B[39m \u001B[38;5;241m1\u001B[39m:\n\u001B[1;32m--> 255\u001B[0m     \u001B[38;5;28;01mraise\u001B[39;00m \u001B[38;5;167;01mValueError\u001B[39;00m(\u001B[38;5;124m\"\u001B[39m\u001B[38;5;124mFound input variables with inconsistent numbers of\u001B[39m\u001B[38;5;124m\"\u001B[39m\n\u001B[0;32m    256\u001B[0m                      \u001B[38;5;124m\"\u001B[39m\u001B[38;5;124m samples: \u001B[39m\u001B[38;5;132;01m%r\u001B[39;00m\u001B[38;5;124m\"\u001B[39m \u001B[38;5;241m%\u001B[39m [\u001B[38;5;28mint\u001B[39m(l) \u001B[38;5;28;01mfor\u001B[39;00m l \u001B[38;5;129;01min\u001B[39;00m lengths])\n",
      "\u001B[1;31mValueError\u001B[0m: Found input variables with inconsistent numbers of samples: [9303, 23097]"
     ]
    }
   ],
   "source": [
    "#Divide feature and target into train and test\n",
    "feature_train,feature_test,target_train,target_test = train_test_split(feature,target,test_size=25,random_state=42)"
   ]
  },
  {
   "cell_type": "code",
   "execution_count": null,
   "metadata": {
    "collapsed": false,
    "pycharm": {
     "name": "#%%\n"
    }
   },
   "outputs": [],
   "source": [
    "print(target_test.shape)\n",
    "print(feature_test.shape)\n",
    "print(target_train.shape)\n",
    "print(feature_train.shape)"
   ]
  },
  {
   "cell_type": "markdown",
   "metadata": {
    "collapsed": false,
    "pycharm": {
     "name": "#%% md\n"
    }
   },
   "source": [
    "We are using a Random Forest classifier in this example. A Random Forest sits within the category of ensemble algorithms because internally the Forest refers to a collection of Decision Trees which are tree-based learning algorithms."
   ]
  },
  {
   "cell_type": "code",
   "execution_count": null,
   "metadata": {
    "collapsed": false,
    "pycharm": {
     "name": "#%%\n"
    }
   },
   "outputs": [],
   "source": [
    "model = RandomForestClassifier(n_estimators=1000)\n",
    "model.fit(feature_train,target_train)"
   ]
  },
  {
   "cell_type": "markdown",
   "metadata": {
    "collapsed": false,
    "pycharm": {
     "name": "#%% md\n"
    }
   },
   "source": [
    "### Evaluation\n",
    "Now let’s evaluate how well this trained model is able to predict the values of the test dataset. We are going to use 3 metrics to evaluate performance:\n",
    "- Accuracy = the ratio of correctly predicted observations to the total observations\n",
    "- Precision = the ability of the classifier to not label a negative sample as positive\n",
    "- Recall = the ability of the classifier to find all the positive samples\n",
    "- F1 Score"
   ]
  },
  {
   "cell_type": "code",
   "execution_count": null,
   "metadata": {
    "collapsed": false,
    "pycharm": {
     "name": "#%%\n"
    }
   },
   "outputs": [],
   "source": [
    "prediction = model.predict(feature_test)\n",
    "tn,fp,fn,tp = metrics.confusion_matrix(target_test,prediction).ravel()"
   ]
  },
  {
   "cell_type": "code",
   "execution_count": null,
   "metadata": {
    "collapsed": false,
    "pycharm": {
     "name": "#%%\n"
    }
   },
   "outputs": [],
   "source": [
    "print(f\"True Negative: {tn}\")\n",
    "print(f\"True Positive: {tp}\")\n",
    "print(f\"False Negative: {fn}\")\n",
    "print(f\"False Positive: {fp}\")"
   ]
  },
  {
   "cell_type": "code",
   "execution_count": null,
   "metadata": {
    "collapsed": false,
    "pycharm": {
     "name": "#%%\n"
    }
   },
   "outputs": [],
   "source": [
    "print(f\"Precision: {metrics.precision_score(target_test,prediction)*100}%\")\n",
    "print(f\"Accuracy: {metrics.accuracy_score(target_test,prediction)*100}%\")\n",
    "print(f\"Recall: {metrics.recall_score(target_test,prediction)*100}%\")\n",
    "print(f\"F1 Score: {metrics.f1_score(target_test,prediction)*100}%\")"
   ]
  },
  {
   "cell_type": "code",
   "execution_count": null,
   "metadata": {
    "collapsed": false,
    "pycharm": {
     "name": "#%%\n"
    }
   },
   "outputs": [],
   "source": [
    "feature_importances = pd.DataFrame({\"feature\":feature_train.columns,\n",
    "                                    \"importance\":model.feature_importances_\n",
    "\n",
    "\n",
    "}).sort_values(by = \"importance\",ascending=False).reset_index()\n",
    "feature_importances"
   ]
  },
  {
   "cell_type": "code",
   "execution_count": null,
   "metadata": {
    "collapsed": false,
    "pycharm": {
     "name": "#%%\n"
    }
   },
   "outputs": [],
   "source": [
    "plt.figure(figsize=(20, 20))\n",
    "plt.title('Feature Importances')\n",
    "plt.barh(range(len(feature_importances)), feature_importances['importance'], color='b')\n",
    "plt.yticks(range(len(feature_importances)), feature_importances['feature'])\n",
    "plt.xlabel('Importance')\n",
    "plt.show()"
   ]
  },
  {
   "cell_type": "code",
   "execution_count": null,
   "metadata": {
    "collapsed": false,
    "pycharm": {
     "name": "#%%\n"
    }
   },
   "outputs": [],
   "source": [
    "target_test = target_test.reset_index()\n",
    "target_test.drop(columns='index', inplace=True)\n",
    "target_test.to_csv('prediction.csv')\n"
   ]
  },
  {
   "cell_type": "code",
   "execution_count": null,
   "metadata": {
    "collapsed": false,
    "pycharm": {
     "name": "#%%\n"
    }
   },
   "outputs": [],
   "source": [
    "target_test[\"Survival\"] = prediction.tolist()\n",
    "# target_test.to_csv('prediction.csv')\n",
    "target_test"
   ]
  },
  {
   "cell_type": "code",
   "execution_count": null,
   "metadata": {
    "collapsed": false,
    "pycharm": {
     "name": "#%%\n"
    }
   },
   "outputs": [],
   "source": []
  }
 ],
 "metadata": {
  "kernelspec": {
   "display_name": "Python 3.9.12 ('base')",
   "language": "python",
   "name": "python3"
  },
  "language_info": {
   "codemirror_mode": {
    "name": "ipython",
    "version": 3
   },
   "file_extension": ".py",
   "mimetype": "text/x-python",
   "name": "python",
   "nbconvert_exporter": "python",
   "pygments_lexer": "ipython3",
   "version": "3.9.12"
  },
  "vscode": {
   "interpreter": {
    "hash": "ab69fee2dcaa5466acbdf9cf9644b011309b7ad0281b6dbdf6a03a3cfb6f18a0"
   }
  }
 },
 "nbformat": 4,
 "nbformat_minor": 0
}