{
 "cells": [
  {
   "cell_type": "markdown",
   "metadata": {
    "collapsed": false,
    "pycharm": {
     "name": "#%% md\n"
    }
   },
   "source": [
    "# Exploratory Data Analysis\n",
    "\n",
    "---\n",
    "\n",
    "1. Import packages\n",
    "2. Loading data with Pandas\n",
    "3. Descriptive statistics of data\n",
    "4. Data visualization\n",
    "5. Hypothesis investigation\n",
    "\n",
    "---\n",
    "\n",
    "## 1. Import packages"
   ]
  },
  {
   "cell_type": "code",
   "execution_count": 2,
   "metadata": {
    "collapsed": false,
    "pycharm": {
     "name": "#%%\n"
    }
   },
   "outputs": [],
   "source": [
    "import matplotlib.pyplot as plt\n",
    "import seaborn as sns\n",
    "import pandas as pd\n",
    "import numpy as np\n",
    "# Shows plots in jupyter notebook\n",
    "%matplotlib inline\n",
    "\n",
    "# Set plot style\n",
    "sns.set(color_codes=True)"
   ]
  },
  {
   "cell_type": "markdown",
   "metadata": {
    "pycharm": {
     "name": "#%% md\n"
    }
   },
   "source": [
    "---\n",
    "\n",
    "## 2. Loading data with Pandas\n",
    "\n",
    "We need to load `Test_data.csv` and `pharma_data.csv` into individual dataframes so that we can work with them in Python"
   ]
  },
  {
   "cell_type": "code",
   "execution_count": 28,
   "metadata": {
    "collapsed": false,
    "pycharm": {
     "name": "#%%\n"
    }
   },
   "outputs": [],
   "source": [
    "#Importing datasets\n",
    "pharma_data = pd.read_csv(\"https://raw.githubusercontent.com/dphi-official/Datasets/master/pharma_data/Training_set_begs.csv\")\n",
    "Test_data = pd.read_csv(\"https://raw.githubusercontent.com/dphi-official/Datasets/master/pharma_data/Testing_set_begs.csv\")"
   ]
  },
  {
   "cell_type": "markdown",
   "metadata": {
    "pycharm": {
     "name": "#%% md\n"
    }
   },
   "source": [
    "Looking at the first 5 rows of both dataframes to see what the data looks like"
   ]
  },
  {
   "cell_type": "code",
   "execution_count": 4,
   "metadata": {
    "collapsed": false,
    "pycharm": {
     "name": "#%%\n"
    }
   },
   "outputs": [
    {
     "data": {
      "text/plain": "   ID_Patient_Care_Situation  Diagnosed_Condition  Patient_ID  \\\n0                      22374                    8        3333   \n1                      18164                    5        5740   \n2                       6283                   23       10446   \n3                       5339                   51       12011   \n4                      33012                    0       12513   \n\n  Treated_with_drugs  Patient_Age  Patient_Body_Mass_Index Patient_Smoker  \\\n0                DX6           56                18.479385            YES   \n1               DX2            36                22.945566            YES   \n2                DX6           48                27.510027            YES   \n3               DX1             5                19.130976             NO   \n4                NaN          128                 1.348400     Cannot say   \n\n  Patient_Rural_Urban Patient_mental_condition    A    B    C    D    E    F  \\\n0               URBAN                   Stable  1.0  0.0  0.0  0.0  1.0  0.0   \n1               RURAL                   Stable  1.0  0.0  0.0  0.0  0.0  0.0   \n2               RURAL                   Stable  1.0  0.0  0.0  0.0  0.0  0.0   \n3               URBAN                   Stable  1.0  0.0  0.0  0.0  0.0  0.0   \n4               RURAL                   Stable  0.0  0.0  0.0  0.0  0.0  0.0   \n\n     Z  Number_of_prev_cond  Survived_1_year  \n0  0.0                  2.0                0  \n1  0.0                  1.0                1  \n2  0.0                  1.0                0  \n3  0.0                  1.0                1  \n4  1.0                  1.0                1  ",
      "text/html": "<div>\n<style scoped>\n    .dataframe tbody tr th:only-of-type {\n        vertical-align: middle;\n    }\n\n    .dataframe tbody tr th {\n        vertical-align: top;\n    }\n\n    .dataframe thead th {\n        text-align: right;\n    }\n</style>\n<table border=\"1\" class=\"dataframe\">\n  <thead>\n    <tr style=\"text-align: right;\">\n      <th></th>\n      <th>ID_Patient_Care_Situation</th>\n      <th>Diagnosed_Condition</th>\n      <th>Patient_ID</th>\n      <th>Treated_with_drugs</th>\n      <th>Patient_Age</th>\n      <th>Patient_Body_Mass_Index</th>\n      <th>Patient_Smoker</th>\n      <th>Patient_Rural_Urban</th>\n      <th>Patient_mental_condition</th>\n      <th>A</th>\n      <th>B</th>\n      <th>C</th>\n      <th>D</th>\n      <th>E</th>\n      <th>F</th>\n      <th>Z</th>\n      <th>Number_of_prev_cond</th>\n      <th>Survived_1_year</th>\n    </tr>\n  </thead>\n  <tbody>\n    <tr>\n      <th>0</th>\n      <td>22374</td>\n      <td>8</td>\n      <td>3333</td>\n      <td>DX6</td>\n      <td>56</td>\n      <td>18.479385</td>\n      <td>YES</td>\n      <td>URBAN</td>\n      <td>Stable</td>\n      <td>1.0</td>\n      <td>0.0</td>\n      <td>0.0</td>\n      <td>0.0</td>\n      <td>1.0</td>\n      <td>0.0</td>\n      <td>0.0</td>\n      <td>2.0</td>\n      <td>0</td>\n    </tr>\n    <tr>\n      <th>1</th>\n      <td>18164</td>\n      <td>5</td>\n      <td>5740</td>\n      <td>DX2</td>\n      <td>36</td>\n      <td>22.945566</td>\n      <td>YES</td>\n      <td>RURAL</td>\n      <td>Stable</td>\n      <td>1.0</td>\n      <td>0.0</td>\n      <td>0.0</td>\n      <td>0.0</td>\n      <td>0.0</td>\n      <td>0.0</td>\n      <td>0.0</td>\n      <td>1.0</td>\n      <td>1</td>\n    </tr>\n    <tr>\n      <th>2</th>\n      <td>6283</td>\n      <td>23</td>\n      <td>10446</td>\n      <td>DX6</td>\n      <td>48</td>\n      <td>27.510027</td>\n      <td>YES</td>\n      <td>RURAL</td>\n      <td>Stable</td>\n      <td>1.0</td>\n      <td>0.0</td>\n      <td>0.0</td>\n      <td>0.0</td>\n      <td>0.0</td>\n      <td>0.0</td>\n      <td>0.0</td>\n      <td>1.0</td>\n      <td>0</td>\n    </tr>\n    <tr>\n      <th>3</th>\n      <td>5339</td>\n      <td>51</td>\n      <td>12011</td>\n      <td>DX1</td>\n      <td>5</td>\n      <td>19.130976</td>\n      <td>NO</td>\n      <td>URBAN</td>\n      <td>Stable</td>\n      <td>1.0</td>\n      <td>0.0</td>\n      <td>0.0</td>\n      <td>0.0</td>\n      <td>0.0</td>\n      <td>0.0</td>\n      <td>0.0</td>\n      <td>1.0</td>\n      <td>1</td>\n    </tr>\n    <tr>\n      <th>4</th>\n      <td>33012</td>\n      <td>0</td>\n      <td>12513</td>\n      <td>NaN</td>\n      <td>128</td>\n      <td>1.348400</td>\n      <td>Cannot say</td>\n      <td>RURAL</td>\n      <td>Stable</td>\n      <td>0.0</td>\n      <td>0.0</td>\n      <td>0.0</td>\n      <td>0.0</td>\n      <td>0.0</td>\n      <td>0.0</td>\n      <td>1.0</td>\n      <td>1.0</td>\n      <td>1</td>\n    </tr>\n  </tbody>\n</table>\n</div>"
     },
     "execution_count": 4,
     "metadata": {},
     "output_type": "execute_result"
    }
   ],
   "source": [
    "pharma_data.head()"
   ]
  },
  {
   "cell_type": "code",
   "execution_count": 5,
   "metadata": {
    "pycharm": {
     "name": "#%%\n"
    }
   },
   "outputs": [
    {
     "data": {
      "text/plain": "   ID_Patient_Care_Situation  Diagnosed_Condition  Patient_ID  \\\n0                      19150                   40        3709   \n1                      23216                   52         986   \n2                      11890                   50       11821   \n3                       7149                   32        3292   \n4                      22845                   20        9959   \n\n  Treated_with_drugs  Patient_Age  Patient_Body_Mass_Index Patient_Smoker  \\\n0               DX3            16                29.443894             NO   \n1                DX6           24                26.836321             NO   \n2           DX4 DX5            63                25.523280             NO   \n3                DX6           42                27.171155             NO   \n4               DX3            50                25.556192             NO   \n\n  Patient_Rural_Urban Patient_mental_condition    A    B    C    D    E    F  \\\n0               RURAL                   Stable  1.0  0.0  0.0  0.0  1.0  0.0   \n1               URBAN                   Stable  1.0  1.0  0.0  0.0  0.0  0.0   \n2               RURAL                   Stable  1.0  0.0  0.0  0.0  1.0  0.0   \n3               URBAN                   Stable  1.0  0.0  1.0  0.0  1.0  0.0   \n4               RURAL                   Stable  1.0  0.0  0.0  0.0  0.0  0.0   \n\n     Z  Number_of_prev_cond  \n0  0.0                  2.0  \n1  0.0                  2.0  \n2  0.0                  2.0  \n3  0.0                  3.0  \n4  0.0                  1.0  ",
      "text/html": "<div>\n<style scoped>\n    .dataframe tbody tr th:only-of-type {\n        vertical-align: middle;\n    }\n\n    .dataframe tbody tr th {\n        vertical-align: top;\n    }\n\n    .dataframe thead th {\n        text-align: right;\n    }\n</style>\n<table border=\"1\" class=\"dataframe\">\n  <thead>\n    <tr style=\"text-align: right;\">\n      <th></th>\n      <th>ID_Patient_Care_Situation</th>\n      <th>Diagnosed_Condition</th>\n      <th>Patient_ID</th>\n      <th>Treated_with_drugs</th>\n      <th>Patient_Age</th>\n      <th>Patient_Body_Mass_Index</th>\n      <th>Patient_Smoker</th>\n      <th>Patient_Rural_Urban</th>\n      <th>Patient_mental_condition</th>\n      <th>A</th>\n      <th>B</th>\n      <th>C</th>\n      <th>D</th>\n      <th>E</th>\n      <th>F</th>\n      <th>Z</th>\n      <th>Number_of_prev_cond</th>\n    </tr>\n  </thead>\n  <tbody>\n    <tr>\n      <th>0</th>\n      <td>19150</td>\n      <td>40</td>\n      <td>3709</td>\n      <td>DX3</td>\n      <td>16</td>\n      <td>29.443894</td>\n      <td>NO</td>\n      <td>RURAL</td>\n      <td>Stable</td>\n      <td>1.0</td>\n      <td>0.0</td>\n      <td>0.0</td>\n      <td>0.0</td>\n      <td>1.0</td>\n      <td>0.0</td>\n      <td>0.0</td>\n      <td>2.0</td>\n    </tr>\n    <tr>\n      <th>1</th>\n      <td>23216</td>\n      <td>52</td>\n      <td>986</td>\n      <td>DX6</td>\n      <td>24</td>\n      <td>26.836321</td>\n      <td>NO</td>\n      <td>URBAN</td>\n      <td>Stable</td>\n      <td>1.0</td>\n      <td>1.0</td>\n      <td>0.0</td>\n      <td>0.0</td>\n      <td>0.0</td>\n      <td>0.0</td>\n      <td>0.0</td>\n      <td>2.0</td>\n    </tr>\n    <tr>\n      <th>2</th>\n      <td>11890</td>\n      <td>50</td>\n      <td>11821</td>\n      <td>DX4 DX5</td>\n      <td>63</td>\n      <td>25.523280</td>\n      <td>NO</td>\n      <td>RURAL</td>\n      <td>Stable</td>\n      <td>1.0</td>\n      <td>0.0</td>\n      <td>0.0</td>\n      <td>0.0</td>\n      <td>1.0</td>\n      <td>0.0</td>\n      <td>0.0</td>\n      <td>2.0</td>\n    </tr>\n    <tr>\n      <th>3</th>\n      <td>7149</td>\n      <td>32</td>\n      <td>3292</td>\n      <td>DX6</td>\n      <td>42</td>\n      <td>27.171155</td>\n      <td>NO</td>\n      <td>URBAN</td>\n      <td>Stable</td>\n      <td>1.0</td>\n      <td>0.0</td>\n      <td>1.0</td>\n      <td>0.0</td>\n      <td>1.0</td>\n      <td>0.0</td>\n      <td>0.0</td>\n      <td>3.0</td>\n    </tr>\n    <tr>\n      <th>4</th>\n      <td>22845</td>\n      <td>20</td>\n      <td>9959</td>\n      <td>DX3</td>\n      <td>50</td>\n      <td>25.556192</td>\n      <td>NO</td>\n      <td>RURAL</td>\n      <td>Stable</td>\n      <td>1.0</td>\n      <td>0.0</td>\n      <td>0.0</td>\n      <td>0.0</td>\n      <td>0.0</td>\n      <td>0.0</td>\n      <td>0.0</td>\n      <td>1.0</td>\n    </tr>\n  </tbody>\n</table>\n</div>"
     },
     "execution_count": 5,
     "metadata": {},
     "output_type": "execute_result"
    }
   ],
   "source": [
    "Test_data.head()"
   ]
  },
  {
   "cell_type": "markdown",
   "metadata": {
    "pycharm": {
     "name": "#%% md\n"
    }
   },
   "source": [
    "With the `pharma_data.csv`, we have a mix of numeric, categorical data and null values which we will need to transform before modelling."
   ]
  },
  {
   "cell_type": "markdown",
   "metadata": {
    "pycharm": {
     "name": "#%% md\n"
    }
   },
   "source": [
    "---\n",
    "\n",
    "## 3. Descriptive statistics of data\n",
    "\n",
    "### Data types"
   ]
  },
  {
   "cell_type": "code",
   "execution_count": 6,
   "metadata": {
    "collapsed": false,
    "pycharm": {
     "name": "#%%\n"
    }
   },
   "outputs": [
    {
     "name": "stdout",
     "output_type": "stream",
     "text": [
      "<class 'pandas.core.frame.DataFrame'>\n",
      "RangeIndex: 23097 entries, 0 to 23096\n",
      "Data columns (total 18 columns):\n",
      " #   Column                     Non-Null Count  Dtype  \n",
      "---  ------                     --------------  -----  \n",
      " 0   ID_Patient_Care_Situation  23097 non-null  int64  \n",
      " 1   Diagnosed_Condition        23097 non-null  int64  \n",
      " 2   Patient_ID                 23097 non-null  int64  \n",
      " 3   Treated_with_drugs         23084 non-null  object \n",
      " 4   Patient_Age                23097 non-null  int64  \n",
      " 5   Patient_Body_Mass_Index    23097 non-null  float64\n",
      " 6   Patient_Smoker             23097 non-null  object \n",
      " 7   Patient_Rural_Urban        23097 non-null  object \n",
      " 8   Patient_mental_condition   23097 non-null  object \n",
      " 9   A                          21862 non-null  float64\n",
      " 10  B                          21862 non-null  float64\n",
      " 11  C                          21862 non-null  float64\n",
      " 12  D                          21862 non-null  float64\n",
      " 13  E                          21862 non-null  float64\n",
      " 14  F                          21862 non-null  float64\n",
      " 15  Z                          21862 non-null  float64\n",
      " 16  Number_of_prev_cond        21862 non-null  float64\n",
      " 17  Survived_1_year            23097 non-null  int64  \n",
      "dtypes: float64(9), int64(5), object(4)\n",
      "memory usage: 3.2+ MB\n"
     ]
    }
   ],
   "source": [
    "pharma_data.info()"
   ]
  },
  {
   "cell_type": "code",
   "execution_count": 7,
   "metadata": {
    "collapsed": false,
    "pycharm": {
     "name": "#%%\n"
    }
   },
   "outputs": [
    {
     "data": {
      "text/plain": "       ID_Patient_Care_Situation  Diagnosed_Condition    Patient_ID  \\\ncount               23097.000000         23097.000000  23097.000000   \nmean                16545.712041            26.413127   6261.280772   \nstd                  9532.263503            15.030865   3595.990620   \nmin                     2.000000             0.000000      1.000000   \n25%                  8280.000000            13.000000   3181.000000   \n50%                 16597.000000            26.000000   6242.000000   \n75%                 24825.000000            39.000000   9363.000000   \nmax                 33014.000000            52.000000  12515.000000   \n\n        Patient_Age  Patient_Body_Mass_Index             A             B  \\\ncount  23097.000000             23097.000000  21862.000000  21862.000000   \nmean      33.209768                23.454820      0.897905      0.136355   \nstd       19.549882                 3.807661      0.302780      0.343173   \nmin        0.000000                 1.089300      0.000000      0.000000   \n25%       16.000000                20.205550      1.000000      0.000000   \n50%       33.000000                23.386199      1.000000      0.000000   \n75%       50.000000                26.788154      1.000000      0.000000   \nmax      149.000000                29.999579      1.000000      1.000000   \n\n                  C             D             E             F             Z  \\\ncount  21862.000000  21862.000000  21862.000000  21862.000000  21862.000000   \nmean       0.185070      0.083615      0.393239      0.053700      0.000595   \nstd        0.388363      0.276817      0.488480      0.225431      0.024379   \nmin        0.000000      0.000000      0.000000      0.000000      0.000000   \n25%        0.000000      0.000000      0.000000      0.000000      0.000000   \n50%        0.000000      0.000000      0.000000      0.000000      0.000000   \n75%        0.000000      0.000000      1.000000      0.000000      0.000000   \nmax        1.000000      1.000000      1.000000      1.000000      1.000000   \n\n       Number_of_prev_cond  Survived_1_year  \ncount         21862.000000     23097.000000  \nmean              1.750480         0.632247  \nstd               0.770311         0.482204  \nmin               1.000000         0.000000  \n25%               1.000000         0.000000  \n50%               2.000000         1.000000  \n75%               2.000000         1.000000  \nmax               5.000000         1.000000  ",
      "text/html": "<div>\n<style scoped>\n    .dataframe tbody tr th:only-of-type {\n        vertical-align: middle;\n    }\n\n    .dataframe tbody tr th {\n        vertical-align: top;\n    }\n\n    .dataframe thead th {\n        text-align: right;\n    }\n</style>\n<table border=\"1\" class=\"dataframe\">\n  <thead>\n    <tr style=\"text-align: right;\">\n      <th></th>\n      <th>ID_Patient_Care_Situation</th>\n      <th>Diagnosed_Condition</th>\n      <th>Patient_ID</th>\n      <th>Patient_Age</th>\n      <th>Patient_Body_Mass_Index</th>\n      <th>A</th>\n      <th>B</th>\n      <th>C</th>\n      <th>D</th>\n      <th>E</th>\n      <th>F</th>\n      <th>Z</th>\n      <th>Number_of_prev_cond</th>\n      <th>Survived_1_year</th>\n    </tr>\n  </thead>\n  <tbody>\n    <tr>\n      <th>count</th>\n      <td>23097.000000</td>\n      <td>23097.000000</td>\n      <td>23097.000000</td>\n      <td>23097.000000</td>\n      <td>23097.000000</td>\n      <td>21862.000000</td>\n      <td>21862.000000</td>\n      <td>21862.000000</td>\n      <td>21862.000000</td>\n      <td>21862.000000</td>\n      <td>21862.000000</td>\n      <td>21862.000000</td>\n      <td>21862.000000</td>\n      <td>23097.000000</td>\n    </tr>\n    <tr>\n      <th>mean</th>\n      <td>16545.712041</td>\n      <td>26.413127</td>\n      <td>6261.280772</td>\n      <td>33.209768</td>\n      <td>23.454820</td>\n      <td>0.897905</td>\n      <td>0.136355</td>\n      <td>0.185070</td>\n      <td>0.083615</td>\n      <td>0.393239</td>\n      <td>0.053700</td>\n      <td>0.000595</td>\n      <td>1.750480</td>\n      <td>0.632247</td>\n    </tr>\n    <tr>\n      <th>std</th>\n      <td>9532.263503</td>\n      <td>15.030865</td>\n      <td>3595.990620</td>\n      <td>19.549882</td>\n      <td>3.807661</td>\n      <td>0.302780</td>\n      <td>0.343173</td>\n      <td>0.388363</td>\n      <td>0.276817</td>\n      <td>0.488480</td>\n      <td>0.225431</td>\n      <td>0.024379</td>\n      <td>0.770311</td>\n      <td>0.482204</td>\n    </tr>\n    <tr>\n      <th>min</th>\n      <td>2.000000</td>\n      <td>0.000000</td>\n      <td>1.000000</td>\n      <td>0.000000</td>\n      <td>1.089300</td>\n      <td>0.000000</td>\n      <td>0.000000</td>\n      <td>0.000000</td>\n      <td>0.000000</td>\n      <td>0.000000</td>\n      <td>0.000000</td>\n      <td>0.000000</td>\n      <td>1.000000</td>\n      <td>0.000000</td>\n    </tr>\n    <tr>\n      <th>25%</th>\n      <td>8280.000000</td>\n      <td>13.000000</td>\n      <td>3181.000000</td>\n      <td>16.000000</td>\n      <td>20.205550</td>\n      <td>1.000000</td>\n      <td>0.000000</td>\n      <td>0.000000</td>\n      <td>0.000000</td>\n      <td>0.000000</td>\n      <td>0.000000</td>\n      <td>0.000000</td>\n      <td>1.000000</td>\n      <td>0.000000</td>\n    </tr>\n    <tr>\n      <th>50%</th>\n      <td>16597.000000</td>\n      <td>26.000000</td>\n      <td>6242.000000</td>\n      <td>33.000000</td>\n      <td>23.386199</td>\n      <td>1.000000</td>\n      <td>0.000000</td>\n      <td>0.000000</td>\n      <td>0.000000</td>\n      <td>0.000000</td>\n      <td>0.000000</td>\n      <td>0.000000</td>\n      <td>2.000000</td>\n      <td>1.000000</td>\n    </tr>\n    <tr>\n      <th>75%</th>\n      <td>24825.000000</td>\n      <td>39.000000</td>\n      <td>9363.000000</td>\n      <td>50.000000</td>\n      <td>26.788154</td>\n      <td>1.000000</td>\n      <td>0.000000</td>\n      <td>0.000000</td>\n      <td>0.000000</td>\n      <td>1.000000</td>\n      <td>0.000000</td>\n      <td>0.000000</td>\n      <td>2.000000</td>\n      <td>1.000000</td>\n    </tr>\n    <tr>\n      <th>max</th>\n      <td>33014.000000</td>\n      <td>52.000000</td>\n      <td>12515.000000</td>\n      <td>149.000000</td>\n      <td>29.999579</td>\n      <td>1.000000</td>\n      <td>1.000000</td>\n      <td>1.000000</td>\n      <td>1.000000</td>\n      <td>1.000000</td>\n      <td>1.000000</td>\n      <td>1.000000</td>\n      <td>5.000000</td>\n      <td>1.000000</td>\n    </tr>\n  </tbody>\n</table>\n</div>"
     },
     "execution_count": 7,
     "metadata": {},
     "output_type": "execute_result"
    }
   ],
   "source": [
    "pharma_data.describe()"
   ]
  },
  {
   "cell_type": "markdown",
   "metadata": {
    "pycharm": {
     "name": "#%% md\n"
    }
   },
   "source": [
    "The describe method gives us a lot of information about the data. The key point to take away from this is that we some  data, as exhibited by std"
   ]
  },
  {
   "cell_type": "markdown",
   "metadata": {
    "pycharm": {
     "name": "#%% md\n"
    }
   },
   "source": [
    "### Missing Values"
   ]
  },
  {
   "cell_type": "code",
   "execution_count": 8,
   "metadata": {
    "collapsed": false,
    "pycharm": {
     "name": "#%%\n"
    }
   },
   "outputs": [
    {
     "data": {
      "text/plain": "ID_Patient_Care_Situation       0\nDiagnosed_Condition             0\nPatient_ID                      0\nTreated_with_drugs             13\nPatient_Age                     0\nPatient_Body_Mass_Index         0\nPatient_Smoker                  0\nPatient_Rural_Urban             0\nPatient_mental_condition        0\nA                            1235\nB                            1235\nC                            1235\nD                            1235\nE                            1235\nF                            1235\nZ                            1235\nNumber_of_prev_cond          1235\nSurvived_1_year                 0\ndtype: int64"
     },
     "execution_count": 8,
     "metadata": {},
     "output_type": "execute_result"
    }
   ],
   "source": [
    "#Checking for null values\n",
    "pharma_data.isna().sum()"
   ]
  },
  {
   "cell_type": "markdown",
   "metadata": {
    "pycharm": {
     "name": "#%% md\n"
    }
   },
   "source": [
    "Here, we can see that a hand full of columns have null values present."
   ]
  },
  {
   "cell_type": "code",
   "execution_count": 9,
   "metadata": {
    "collapsed": false,
    "pycharm": {
     "name": "#%%\n"
    }
   },
   "outputs": [],
   "source": [
    "# Filling null values with the next value on the column\n",
    "pharma_data.Treated_with_drugs.fillna(method = \"pad\",inplace = True)\n",
    "pharma_data.A.fillna(method = \"pad\",inplace = True)\n",
    "pharma_data.B.fillna(method = \"pad\",inplace = True)\n",
    "pharma_data.C.fillna(method = \"pad\",inplace = True)\n",
    "pharma_data.D.fillna(method = \"pad\",inplace = True)\n",
    "pharma_data.E.fillna(method = \"pad\",inplace = True)\n",
    "pharma_data.F.fillna(method = \"pad\",inplace = True)\n",
    "pharma_data.Z.fillna(method = \"pad\",inplace = True)"
   ]
  },
  {
   "cell_type": "code",
   "execution_count": 10,
   "metadata": {
    "collapsed": false,
    "pycharm": {
     "name": "#%%\n"
    }
   },
   "outputs": [],
   "source": [
    "# Summing all our columns and using those values as Number_of_prev\n",
    "cols = pharma_data[[\"A\",\"B\",\"C\",\"D\",\"E\",\"F\",\"Z\"]]\n",
    "cols = cols.sum(axis = 1)\n",
    "pharma_data.Number_of_prev_cond = cols"
   ]
  },
  {
   "cell_type": "code",
   "execution_count": 11,
   "metadata": {
    "collapsed": false,
    "pycharm": {
     "name": "#%%\n"
    }
   },
   "outputs": [
    {
     "data": {
      "text/plain": "ID_Patient_Care_Situation    0\nDiagnosed_Condition          0\nPatient_ID                   0\nTreated_with_drugs           0\nPatient_Age                  0\nPatient_Body_Mass_Index      0\nPatient_Smoker               0\nPatient_Rural_Urban          0\nPatient_mental_condition     0\nA                            0\nB                            0\nC                            0\nD                            0\nE                            0\nF                            0\nZ                            0\nNumber_of_prev_cond          0\nSurvived_1_year              0\ndtype: int64"
     },
     "execution_count": 11,
     "metadata": {},
     "output_type": "execute_result"
    }
   ],
   "source": [
    "#Now there are no null values\n",
    "pharma_data.isna().sum()"
   ]
  },
  {
   "cell_type": "markdown",
   "metadata": {
    "collapsed": false,
    "pycharm": {
     "name": "#%% md\n"
    }
   },
   "source": [
    "---\n",
    "# Data visualization\n",
    "\n",
    "Now let's create meaning and conclusions from the dataframes"
   ]
  },
  {
   "cell_type": "markdown",
   "metadata": {
    "collapsed": false,
    "pycharm": {
     "name": "#%% md\n"
    }
   },
   "source": [
    "## 1. Percentage of Survival"
   ]
  },
  {
   "cell_type": "code",
   "execution_count": 12,
   "metadata": {
    "collapsed": false,
    "pycharm": {
     "name": "#%%\n"
    }
   },
   "outputs": [
    {
     "data": {
      "text/plain": "           Patients\nSurvived           \n1         63.224661\n0         36.775339",
      "text/html": "<div>\n<style scoped>\n    .dataframe tbody tr th:only-of-type {\n        vertical-align: middle;\n    }\n\n    .dataframe tbody tr th {\n        vertical-align: top;\n    }\n\n    .dataframe thead th {\n        text-align: right;\n    }\n</style>\n<table border=\"1\" class=\"dataframe\">\n  <thead>\n    <tr style=\"text-align: right;\">\n      <th></th>\n      <th>Patients</th>\n    </tr>\n    <tr>\n      <th>Survived</th>\n      <th></th>\n    </tr>\n  </thead>\n  <tbody>\n    <tr>\n      <th>1</th>\n      <td>63.224661</td>\n    </tr>\n    <tr>\n      <th>0</th>\n      <td>36.775339</td>\n    </tr>\n  </tbody>\n</table>\n</div>"
     },
     "execution_count": 12,
     "metadata": {},
     "output_type": "execute_result"
    }
   ],
   "source": [
    "survived = pharma_data[[\"ID_Patient_Care_Situation\",\"Survived_1_year\"]]\n",
    "survived.columns = [\"Patients\",\"Survived\"]\n",
    "survived_total = survived.groupby([\"Survived\"]).count().sort_values(by = \"Patients\",ascending=False)\n",
    "survived_percent = (survived_total/survived_total.sum())*100\n",
    "survived_percent"
   ]
  },
  {
   "cell_type": "code",
   "execution_count": 13,
   "metadata": {
    "collapsed": false,
    "pycharm": {
     "name": "#%%\n"
    }
   },
   "outputs": [
    {
     "data": {
      "text/plain": "<Figure size 640x480 with 1 Axes>",
      "image/png": "[encoded data removed]"
     },
     "metadata": {},
     "output_type": "display_data"
    }
   ],
   "source": [
    "survived_percent.transpose().plot.bar(stacked = True,rot = 0)\n",
    "plt.ylabel(\"Patient Percentage\")\n",
    "plt.legend([\"Alive after 1Yr\",\"Dead after 1Yr\"],loc = \"upper right\")\n",
    "plt.show()"
   ]
  },
  {
   "cell_type": "markdown",
   "metadata": {
    "collapsed": false,
    "pycharm": {
     "name": "#%% md\n"
    }
   },
   "source": [
    "About 36% of the total number are dead (8934 patients)\n",
    "\n",
    "### Patients who smoke\n",
    "\n",
    "Let's see the distribution of the patients who smoke. Since the  data is univariate, let's use histograms to visualize their distribution."
   ]
  },
  {
   "cell_type": "code",
   "execution_count": 14,
   "metadata": {
    "collapsed": false,
    "pycharm": {
     "name": "#%%\n"
    }
   },
   "outputs": [
    {
     "data": {
      "text/plain": "       ID_Patient_Care_Situation  Diagnosed_Condition  Patient_ID  \\\n0                          22374                    8        3333   \n1                          18164                    5        5740   \n2                           6283                   23       10446   \n3                           5339                   51       12011   \n4                          33012                    0       12513   \n...                          ...                  ...         ...   \n23092                      15613                    3        1548   \n23093                      15503                   41        2769   \n23094                       2167                   24        7671   \n23095                      31646                   11        5764   \n23096                       3947                   21        6266   \n\n      Treated_with_drugs  Patient_Age  Patient_Body_Mass_Index Patient_Smoker  \\\n0                    DX6           56                18.479385            YES   \n1                   DX2            36                22.945566            YES   \n2                    DX6           48                27.510027            YES   \n3                   DX1             5                19.130976             NO   \n4                   DX1           128                 1.348400            YES   \n...                  ...          ...                      ...            ...   \n23092           DX2 DX4            14                18.643448             NO   \n23093                DX6           55                23.684585             NO   \n23094                DX6           63                27.500039            YES   \n23095               DX3            25                23.719125            YES   \n23096                DX6           50                18.391156            YES   \n\n      Patient_Rural_Urban Patient_mental_condition    A    B    C    D    E  \\\n0                   URBAN                   Stable  1.0  0.0  0.0  0.0  1.0   \n1                   RURAL                   Stable  1.0  0.0  0.0  0.0  0.0   \n2                   RURAL                   Stable  1.0  0.0  0.0  0.0  0.0   \n3                   URBAN                   Stable  1.0  0.0  0.0  0.0  0.0   \n4                   RURAL                   Stable  0.0  0.0  0.0  0.0  0.0   \n...                   ...                      ...  ...  ...  ...  ...  ...   \n23092               RURAL                   Stable  1.0  1.0  0.0  1.0  1.0   \n23093               RURAL                   Stable  1.0  0.0  0.0  0.0  0.0   \n23094               RURAL                   Stable  1.0  0.0  0.0  0.0  0.0   \n23095               RURAL                   Stable  1.0  0.0  0.0  0.0  1.0   \n23096               RURAL                   Stable  1.0  0.0  1.0  1.0  1.0   \n\n         F    Z  Number_of_prev_cond  Survived_1_year  \n0      0.0  0.0                  2.0                0  \n1      0.0  0.0                  1.0                1  \n2      0.0  0.0                  1.0                0  \n3      0.0  0.0                  1.0                1  \n4      0.0  1.0                  1.0                1  \n...    ...  ...                  ...              ...  \n23092  1.0  0.0                  5.0                0  \n23093  0.0  0.0                  1.0                1  \n23094  0.0  0.0                  1.0                0  \n23095  0.0  0.0                  2.0                1  \n23096  0.0  0.0                  4.0                0  \n\n[23097 rows x 18 columns]",
      "text/html": "<div>\n<style scoped>\n    .dataframe tbody tr th:only-of-type {\n        vertical-align: middle;\n    }\n\n    .dataframe tbody tr th {\n        vertical-align: top;\n    }\n\n    .dataframe thead th {\n        text-align: right;\n    }\n</style>\n<table border=\"1\" class=\"dataframe\">\n  <thead>\n    <tr style=\"text-align: right;\">\n      <th></th>\n      <th>ID_Patient_Care_Situation</th>\n      <th>Diagnosed_Condition</th>\n      <th>Patient_ID</th>\n      <th>Treated_with_drugs</th>\n      <th>Patient_Age</th>\n      <th>Patient_Body_Mass_Index</th>\n      <th>Patient_Smoker</th>\n      <th>Patient_Rural_Urban</th>\n      <th>Patient_mental_condition</th>\n      <th>A</th>\n      <th>B</th>\n      <th>C</th>\n      <th>D</th>\n      <th>E</th>\n      <th>F</th>\n      <th>Z</th>\n      <th>Number_of_prev_cond</th>\n      <th>Survived_1_year</th>\n    </tr>\n  </thead>\n  <tbody>\n    <tr>\n      <th>0</th>\n      <td>22374</td>\n      <td>8</td>\n      <td>3333</td>\n      <td>DX6</td>\n      <td>56</td>\n      <td>18.479385</td>\n      <td>YES</td>\n      <td>URBAN</td>\n      <td>Stable</td>\n      <td>1.0</td>\n      <td>0.0</td>\n      <td>0.0</td>\n      <td>0.0</td>\n      <td>1.0</td>\n      <td>0.0</td>\n      <td>0.0</td>\n      <td>2.0</td>\n      <td>0</td>\n    </tr>\n    <tr>\n      <th>1</th>\n      <td>18164</td>\n      <td>5</td>\n      <td>5740</td>\n      <td>DX2</td>\n      <td>36</td>\n      <td>22.945566</td>\n      <td>YES</td>\n      <td>RURAL</td>\n      <td>Stable</td>\n      <td>1.0</td>\n      <td>0.0</td>\n      <td>0.0</td>\n      <td>0.0</td>\n      <td>0.0</td>\n      <td>0.0</td>\n      <td>0.0</td>\n      <td>1.0</td>\n      <td>1</td>\n    </tr>\n    <tr>\n      <th>2</th>\n      <td>6283</td>\n      <td>23</td>\n      <td>10446</td>\n      <td>DX6</td>\n      <td>48</td>\n      <td>27.510027</td>\n      <td>YES</td>\n      <td>RURAL</td>\n      <td>Stable</td>\n      <td>1.0</td>\n      <td>0.0</td>\n      <td>0.0</td>\n      <td>0.0</td>\n      <td>0.0</td>\n      <td>0.0</td>\n      <td>0.0</td>\n      <td>1.0</td>\n      <td>0</td>\n    </tr>\n    <tr>\n      <th>3</th>\n      <td>5339</td>\n      <td>51</td>\n      <td>12011</td>\n      <td>DX1</td>\n      <td>5</td>\n      <td>19.130976</td>\n      <td>NO</td>\n      <td>URBAN</td>\n      <td>Stable</td>\n      <td>1.0</td>\n      <td>0.0</td>\n      <td>0.0</td>\n      <td>0.0</td>\n      <td>0.0</td>\n      <td>0.0</td>\n      <td>0.0</td>\n      <td>1.0</td>\n      <td>1</td>\n    </tr>\n    <tr>\n      <th>4</th>\n      <td>33012</td>\n      <td>0</td>\n      <td>12513</td>\n      <td>DX1</td>\n      <td>128</td>\n      <td>1.348400</td>\n      <td>YES</td>\n      <td>RURAL</td>\n      <td>Stable</td>\n      <td>0.0</td>\n      <td>0.0</td>\n      <td>0.0</td>\n      <td>0.0</td>\n      <td>0.0</td>\n      <td>0.0</td>\n      <td>1.0</td>\n      <td>1.0</td>\n      <td>1</td>\n    </tr>\n    <tr>\n      <th>...</th>\n      <td>...</td>\n      <td>...</td>\n      <td>...</td>\n      <td>...</td>\n      <td>...</td>\n      <td>...</td>\n      <td>...</td>\n      <td>...</td>\n      <td>...</td>\n      <td>...</td>\n      <td>...</td>\n      <td>...</td>\n      <td>...</td>\n      <td>...</td>\n      <td>...</td>\n      <td>...</td>\n      <td>...</td>\n      <td>...</td>\n    </tr>\n    <tr>\n      <th>23092</th>\n      <td>15613</td>\n      <td>3</td>\n      <td>1548</td>\n      <td>DX2 DX4</td>\n      <td>14</td>\n      <td>18.643448</td>\n      <td>NO</td>\n      <td>RURAL</td>\n      <td>Stable</td>\n      <td>1.0</td>\n      <td>1.0</td>\n      <td>0.0</td>\n      <td>1.0</td>\n      <td>1.0</td>\n      <td>1.0</td>\n      <td>0.0</td>\n      <td>5.0</td>\n      <td>0</td>\n    </tr>\n    <tr>\n      <th>23093</th>\n      <td>15503</td>\n      <td>41</td>\n      <td>2769</td>\n      <td>DX6</td>\n      <td>55</td>\n      <td>23.684585</td>\n      <td>NO</td>\n      <td>RURAL</td>\n      <td>Stable</td>\n      <td>1.0</td>\n      <td>0.0</td>\n      <td>0.0</td>\n      <td>0.0</td>\n      <td>0.0</td>\n      <td>0.0</td>\n      <td>0.0</td>\n      <td>1.0</td>\n      <td>1</td>\n    </tr>\n    <tr>\n      <th>23094</th>\n      <td>2167</td>\n      <td>24</td>\n      <td>7671</td>\n      <td>DX6</td>\n      <td>63</td>\n      <td>27.500039</td>\n      <td>YES</td>\n      <td>RURAL</td>\n      <td>Stable</td>\n      <td>1.0</td>\n      <td>0.0</td>\n      <td>0.0</td>\n      <td>0.0</td>\n      <td>0.0</td>\n      <td>0.0</td>\n      <td>0.0</td>\n      <td>1.0</td>\n      <td>0</td>\n    </tr>\n    <tr>\n      <th>23095</th>\n      <td>31646</td>\n      <td>11</td>\n      <td>5764</td>\n      <td>DX3</td>\n      <td>25</td>\n      <td>23.719125</td>\n      <td>YES</td>\n      <td>RURAL</td>\n      <td>Stable</td>\n      <td>1.0</td>\n      <td>0.0</td>\n      <td>0.0</td>\n      <td>0.0</td>\n      <td>1.0</td>\n      <td>0.0</td>\n      <td>0.0</td>\n      <td>2.0</td>\n      <td>1</td>\n    </tr>\n    <tr>\n      <th>23096</th>\n      <td>3947</td>\n      <td>21</td>\n      <td>6266</td>\n      <td>DX6</td>\n      <td>50</td>\n      <td>18.391156</td>\n      <td>YES</td>\n      <td>RURAL</td>\n      <td>Stable</td>\n      <td>1.0</td>\n      <td>0.0</td>\n      <td>1.0</td>\n      <td>1.0</td>\n      <td>1.0</td>\n      <td>0.0</td>\n      <td>0.0</td>\n      <td>4.0</td>\n      <td>0</td>\n    </tr>\n  </tbody>\n</table>\n<p>23097 rows × 18 columns</p>\n</div>"
     },
     "execution_count": 14,
     "metadata": {},
     "output_type": "execute_result"
    }
   ],
   "source": [
    "#There are rows that indicate \"Cannot Say\". Let's convert all the \"Cannot Say\" categories to YES OR NO\n",
    "pharma_data.Patient_Smoker.replace(\"Cannot say\",\"YES\",inplace = True)\n",
    "pharma_data"
   ]
  },
  {
   "cell_type": "code",
   "execution_count": 15,
   "metadata": {
    "collapsed": false,
    "pycharm": {
     "name": "#%%\n"
    }
   },
   "outputs": [
    {
     "data": {
      "text/plain": "Survived                0          1\nPatient_Smoker                      \nYES             50.908537  49.091463\nNO              26.264533  73.735467",
      "text/html": "<div>\n<style scoped>\n    .dataframe tbody tr th:only-of-type {\n        vertical-align: middle;\n    }\n\n    .dataframe tbody tr th {\n        vertical-align: top;\n    }\n\n    .dataframe thead th {\n        text-align: right;\n    }\n</style>\n<table border=\"1\" class=\"dataframe\">\n  <thead>\n    <tr style=\"text-align: right;\">\n      <th>Survived</th>\n      <th>0</th>\n      <th>1</th>\n    </tr>\n    <tr>\n      <th>Patient_Smoker</th>\n      <th></th>\n      <th></th>\n    </tr>\n  </thead>\n  <tbody>\n    <tr>\n      <th>YES</th>\n      <td>50.908537</td>\n      <td>49.091463</td>\n    </tr>\n    <tr>\n      <th>NO</th>\n      <td>26.264533</td>\n      <td>73.735467</td>\n    </tr>\n  </tbody>\n</table>\n</div>"
     },
     "execution_count": 15,
     "metadata": {},
     "output_type": "execute_result"
    }
   ],
   "source": [
    "smokers = pharma_data[[\"ID_Patient_Care_Situation\",\"Patient_Smoker\",\"Survived_1_year\"]]\n",
    "smokers.columns = [\"id\",\"Patient_Smoker\",\"Survived\"]\n",
    "smoker_total = smokers.groupby([smokers[\"Patient_Smoker\"],smokers[\"Survived\"]])[\"id\"].count().unstack()\n",
    "smoker_percent =  (smoker_total.div(smoker_total.sum(axis = 1),axis = 0)*100).sort_values(by = 0,ascending = False)\n",
    "smoker_percent"
   ]
  },
  {
   "cell_type": "code",
   "execution_count": 16,
   "metadata": {
    "collapsed": false,
    "pycharm": {
     "name": "#%%\n"
    }
   },
   "outputs": [
    {
     "data": {
      "text/plain": "<Figure size 1800x1000 with 1 Axes>",
      "image/png": "[encoded data removed]"
     },
     "metadata": {},
     "output_type": "display_data"
    }
   ],
   "source": [
    "smoker_percent.plot.bar(stacked = True,rot =0,figsize=(18,10))\n",
    "plt.ylabel(\"Percentage %\")\n",
    "plt.xlabel(\"Patients who smoke\")\n",
    "plt.legend([\"Dead\",\"Alive\"],loc = \"upper center\",fontsize =20)\n",
    "plt.show()"
   ]
  },
  {
   "cell_type": "markdown",
   "metadata": {
    "collapsed": false,
    "pycharm": {
     "name": "#%% md\n"
    }
   },
   "source": [
    "Smoking doesn't affect the rate of a patient's survival that much\n",
    " - 49% of smokers died as 51% of the same smokers survived\n",
    " - 26% of non smokers dies as 73% of the same non-smokers survived"
   ]
  },
  {
   "cell_type": "markdown",
   "metadata": {
    "collapsed": false,
    "pycharm": {
     "name": "#%% md\n"
    }
   },
   "source": [
    "## 3. RURAL or URBAN community"
   ]
  },
  {
   "cell_type": "code",
   "execution_count": 17,
   "metadata": {
    "collapsed": false,
    "pycharm": {
     "name": "#%%\n"
    }
   },
   "outputs": [
    {
     "data": {
      "text/plain": "Survival                     0          1\nPatient_Rural_Urban                      \nURBAN                45.052420  54.947580\nRURAL                33.203173  66.796827",
      "text/html": "<div>\n<style scoped>\n    .dataframe tbody tr th:only-of-type {\n        vertical-align: middle;\n    }\n\n    .dataframe tbody tr th {\n        vertical-align: top;\n    }\n\n    .dataframe thead th {\n        text-align: right;\n    }\n</style>\n<table border=\"1\" class=\"dataframe\">\n  <thead>\n    <tr style=\"text-align: right;\">\n      <th>Survival</th>\n      <th>0</th>\n      <th>1</th>\n    </tr>\n    <tr>\n      <th>Patient_Rural_Urban</th>\n      <th></th>\n      <th></th>\n    </tr>\n  </thead>\n  <tbody>\n    <tr>\n      <th>URBAN</th>\n      <td>45.052420</td>\n      <td>54.947580</td>\n    </tr>\n    <tr>\n      <th>RURAL</th>\n      <td>33.203173</td>\n      <td>66.796827</td>\n    </tr>\n  </tbody>\n</table>\n</div>"
     },
     "execution_count": 17,
     "metadata": {},
     "output_type": "execute_result"
    }
   ],
   "source": [
    "Rural_urban = pharma_data[[\"ID_Patient_Care_Situation\",\"Patient_Rural_Urban\",\"Survived_1_year\"]]\n",
    "Rural_urban.columns = [\"id\",\"Patient_Rural_Urban\",\"Survival\"]\n",
    "Rural_urban_total = Rural_urban.groupby([Rural_urban[\"Patient_Rural_Urban\"],Rural_urban[\"Survival\"]])[\"id\"].count().unstack()\n",
    "Rural_urban_percent = (Rural_urban_total.div(Rural_urban_total.sum(axis = 1),axis = 0)*100).sort_values(by = 0,ascending = False)\n",
    "Rural_urban_percent"
   ]
  },
  {
   "cell_type": "code",
   "execution_count": 18,
   "metadata": {
    "collapsed": false,
    "pycharm": {
     "name": "#%%\n"
    }
   },
   "outputs": [
    {
     "data": {
      "text/plain": "<Figure size 1500x1500 with 1 Axes>",
      "image/png": "[encoded data removed]"
     },
     "metadata": {},
     "output_type": "display_data"
    }
   ],
   "source": [
    "Rural_urban_percent.plot.bar(stacked = True,rot = 0,figsize=(15,15))\n",
    "plt.legend([\"Dead\",\"Alive\"],loc = \"upper center\",fontsize =18)\n",
    "plt.ylabel(\"Percentage %\")\n",
    "plt.xlabel(\"Part of Country\")\n",
    "plt.show()"
   ]
  },
  {
   "cell_type": "markdown",
   "metadata": {
    "collapsed": false,
    "pycharm": {
     "name": "#%% md\n"
    }
   },
   "source": [
    "Rural\n",
    "- 66% of Rural Residents survived\n",
    "- 33% of Urban Residents died\n",
    "\n",
    "Urban\n",
    "- 54% of Urban Residents survived\n",
    "- 45% of Urban Residents died\n"
   ]
  },
  {
   "cell_type": "markdown",
   "metadata": {
    "collapsed": false,
    "pycharm": {
     "name": "#%% md\n"
    }
   },
   "source": [
    "## 4. Patients with previous category of condition"
   ]
  },
  {
   "cell_type": "code",
   "execution_count": 19,
   "metadata": {
    "collapsed": false,
    "pycharm": {
     "name": "#%%\n"
    }
   },
   "outputs": [
    {
     "data": {
      "text/plain": "Survival              0          1\nPrevious_con                      \n1.0           34.208673  65.791327\n2.0           36.542508  63.457492\n3.0           41.757898  58.242102\n4.0           59.761905  40.238095\n5.0           94.594595   5.405405",
      "text/html": "<div>\n<style scoped>\n    .dataframe tbody tr th:only-of-type {\n        vertical-align: middle;\n    }\n\n    .dataframe tbody tr th {\n        vertical-align: top;\n    }\n\n    .dataframe thead th {\n        text-align: right;\n    }\n</style>\n<table border=\"1\" class=\"dataframe\">\n  <thead>\n    <tr style=\"text-align: right;\">\n      <th>Survival</th>\n      <th>0</th>\n      <th>1</th>\n    </tr>\n    <tr>\n      <th>Previous_con</th>\n      <th></th>\n      <th></th>\n    </tr>\n  </thead>\n  <tbody>\n    <tr>\n      <th>1.0</th>\n      <td>34.208673</td>\n      <td>65.791327</td>\n    </tr>\n    <tr>\n      <th>2.0</th>\n      <td>36.542508</td>\n      <td>63.457492</td>\n    </tr>\n    <tr>\n      <th>3.0</th>\n      <td>41.757898</td>\n      <td>58.242102</td>\n    </tr>\n    <tr>\n      <th>4.0</th>\n      <td>59.761905</td>\n      <td>40.238095</td>\n    </tr>\n    <tr>\n      <th>5.0</th>\n      <td>94.594595</td>\n      <td>5.405405</td>\n    </tr>\n  </tbody>\n</table>\n</div>"
     },
     "execution_count": 19,
     "metadata": {},
     "output_type": "execute_result"
    }
   ],
   "source": [
    "Prev_con = pharma_data[[\"ID_Patient_Care_Situation\",\"Number_of_prev_cond\",\"Survived_1_year\"]]\n",
    "Prev_con.columns = [\"id\",\"Previous_con\",\"Survival\"]\n",
    "Prev_con_total = Prev_con.groupby([Prev_con[\"Previous_con\"],Prev_con[\"Survival\"]])[\"id\"].count().unstack()\n",
    "Prev_con_percent = (Prev_con_total.div(Prev_con_total.sum(axis = 1),axis = 0)*100).sort_values(by = 0,ascending = True)\n",
    "Prev_con_percent"
   ]
  },
  {
   "cell_type": "code",
   "execution_count": 20,
   "metadata": {
    "collapsed": false,
    "pycharm": {
     "name": "#%%\n"
    }
   },
   "outputs": [
    {
     "data": {
      "text/plain": "<Figure size 1000x1000 with 1 Axes>",
      "image/png": "[encoded data removed]"
     },
     "metadata": {},
     "output_type": "display_data"
    }
   ],
   "source": [
    "Prev_con_percent.plot.bar(stacked = True,rot = 0,figsize=(10,10))\n",
    "plt.legend([\"Dead\",\"Alive\"],loc = \"lower right\",fontsize = 15)\n",
    "plt.ylabel(\"Percentage %\")\n",
    "plt.xlabel(\"Number of Previous Conditions\")\n",
    "plt.show()"
   ]
  },
  {
   "cell_type": "markdown",
   "metadata": {
    "collapsed": false,
    "pycharm": {
     "name": "#%% md\n"
    }
   },
   "source": [
    "---\n",
    "This clearly shows the relationship between number of previous conditions and rate of survival\n",
    "The more the number of previous conditions, the more the rate to death\n",
    "- 94% of those with 5 previous conditions died\n",
    "- 59% of those with 4 previous conditions died\n",
    "- 41% of those with 3 previous conditions died\n",
    "- 36% of those with 2 previous conditions died\n",
    "- 34% of those with 1 previous condition died\n"
   ]
  },
  {
   "cell_type": "markdown",
   "metadata": {
    "collapsed": false,
    "pycharm": {
     "name": "#%% md\n"
    }
   },
   "source": [
    "## 5. Different Category of Previous Conditions"
   ]
  },
  {
   "cell_type": "code",
   "execution_count": 21,
   "metadata": {
    "collapsed": false,
    "pycharm": {
     "name": "#%%\n"
    }
   },
   "outputs": [
    {
     "data": {
      "text/plain": "       ID_Patient_Care_Situation    A    B    C    D    E    F    Z  \\\n0                          22374  1.0  0.0  0.0  0.0  1.0  0.0  0.0   \n1                          18164  1.0  0.0  0.0  0.0  0.0  0.0  0.0   \n2                           6283  1.0  0.0  0.0  0.0  0.0  0.0  0.0   \n3                           5339  1.0  0.0  0.0  0.0  0.0  0.0  0.0   \n4                          33012  0.0  0.0  0.0  0.0  0.0  0.0  1.0   \n...                          ...  ...  ...  ...  ...  ...  ...  ...   \n23092                      15613  1.0  1.0  0.0  1.0  1.0  1.0  0.0   \n23093                      15503  1.0  0.0  0.0  0.0  0.0  0.0  0.0   \n23094                       2167  1.0  0.0  0.0  0.0  0.0  0.0  0.0   \n23095                      31646  1.0  0.0  0.0  0.0  1.0  0.0  0.0   \n23096                       3947  1.0  0.0  1.0  1.0  1.0  0.0  0.0   \n\n       Survived_1_year  \n0                    0  \n1                    1  \n2                    0  \n3                    1  \n4                    1  \n...                ...  \n23092                0  \n23093                1  \n23094                0  \n23095                1  \n23096                0  \n\n[23097 rows x 9 columns]",
      "text/html": "<div>\n<style scoped>\n    .dataframe tbody tr th:only-of-type {\n        vertical-align: middle;\n    }\n\n    .dataframe tbody tr th {\n        vertical-align: top;\n    }\n\n    .dataframe thead th {\n        text-align: right;\n    }\n</style>\n<table border=\"1\" class=\"dataframe\">\n  <thead>\n    <tr style=\"text-align: right;\">\n      <th></th>\n      <th>ID_Patient_Care_Situation</th>\n      <th>A</th>\n      <th>B</th>\n      <th>C</th>\n      <th>D</th>\n      <th>E</th>\n      <th>F</th>\n      <th>Z</th>\n      <th>Survived_1_year</th>\n    </tr>\n  </thead>\n  <tbody>\n    <tr>\n      <th>0</th>\n      <td>22374</td>\n      <td>1.0</td>\n      <td>0.0</td>\n      <td>0.0</td>\n      <td>0.0</td>\n      <td>1.0</td>\n      <td>0.0</td>\n      <td>0.0</td>\n      <td>0</td>\n    </tr>\n    <tr>\n      <th>1</th>\n      <td>18164</td>\n      <td>1.0</td>\n      <td>0.0</td>\n      <td>0.0</td>\n      <td>0.0</td>\n      <td>0.0</td>\n      <td>0.0</td>\n      <td>0.0</td>\n      <td>1</td>\n    </tr>\n    <tr>\n      <th>2</th>\n      <td>6283</td>\n      <td>1.0</td>\n      <td>0.0</td>\n      <td>0.0</td>\n      <td>0.0</td>\n      <td>0.0</td>\n      <td>0.0</td>\n      <td>0.0</td>\n      <td>0</td>\n    </tr>\n    <tr>\n      <th>3</th>\n      <td>5339</td>\n      <td>1.0</td>\n      <td>0.0</td>\n      <td>0.0</td>\n      <td>0.0</td>\n      <td>0.0</td>\n      <td>0.0</td>\n      <td>0.0</td>\n      <td>1</td>\n    </tr>\n    <tr>\n      <th>4</th>\n      <td>33012</td>\n      <td>0.0</td>\n      <td>0.0</td>\n      <td>0.0</td>\n      <td>0.0</td>\n      <td>0.0</td>\n      <td>0.0</td>\n      <td>1.0</td>\n      <td>1</td>\n    </tr>\n    <tr>\n      <th>...</th>\n      <td>...</td>\n      <td>...</td>\n      <td>...</td>\n      <td>...</td>\n      <td>...</td>\n      <td>...</td>\n      <td>...</td>\n      <td>...</td>\n      <td>...</td>\n    </tr>\n    <tr>\n      <th>23092</th>\n      <td>15613</td>\n      <td>1.0</td>\n      <td>1.0</td>\n      <td>0.0</td>\n      <td>1.0</td>\n      <td>1.0</td>\n      <td>1.0</td>\n      <td>0.0</td>\n      <td>0</td>\n    </tr>\n    <tr>\n      <th>23093</th>\n      <td>15503</td>\n      <td>1.0</td>\n      <td>0.0</td>\n      <td>0.0</td>\n      <td>0.0</td>\n      <td>0.0</td>\n      <td>0.0</td>\n      <td>0.0</td>\n      <td>1</td>\n    </tr>\n    <tr>\n      <th>23094</th>\n      <td>2167</td>\n      <td>1.0</td>\n      <td>0.0</td>\n      <td>0.0</td>\n      <td>0.0</td>\n      <td>0.0</td>\n      <td>0.0</td>\n      <td>0.0</td>\n      <td>0</td>\n    </tr>\n    <tr>\n      <th>23095</th>\n      <td>31646</td>\n      <td>1.0</td>\n      <td>0.0</td>\n      <td>0.0</td>\n      <td>0.0</td>\n      <td>1.0</td>\n      <td>0.0</td>\n      <td>0.0</td>\n      <td>1</td>\n    </tr>\n    <tr>\n      <th>23096</th>\n      <td>3947</td>\n      <td>1.0</td>\n      <td>0.0</td>\n      <td>1.0</td>\n      <td>1.0</td>\n      <td>1.0</td>\n      <td>0.0</td>\n      <td>0.0</td>\n      <td>0</td>\n    </tr>\n  </tbody>\n</table>\n<p>23097 rows × 9 columns</p>\n</div>"
     },
     "execution_count": 21,
     "metadata": {},
     "output_type": "execute_result"
    }
   ],
   "source": [
    "cat_prev_condition = pharma_data[[\"ID_Patient_Care_Situation\",\"A\",\"B\",\"C\",\"D\",\"E\",\"F\",\"Z\",\"Survived_1_year\"]]\n",
    "# cat_prev_condition_total = cat_prev_condition.groupby([cat_prev_condition[\"Previous_con\"],cat_prev_condition[\"Survival\"]])[\"id\"].count().unstack()\n",
    "# cat_prev_condition_percent = (Prev_con_total.div(Prev_con_total.sum(axis = 1),axis = 0)*100).sort_values(by = 0,ascending = True)\n",
    "# Prev_con_percent\n",
    "cat_prev_condition"
   ]
  },
  {
   "cell_type": "code",
   "execution_count": 22,
   "metadata": {
    "collapsed": false,
    "pycharm": {
     "name": "#%%\n"
    }
   },
   "outputs": [
    {
     "data": {
      "text/plain": "       ID_Patient_Care_Situation  Diagnosed_Condition  Patient_ID  \\\n4                          33012                    0       12513   \n21                         27197                   14        2609   \n32                          8165                   40        8908   \n34                         18320                   48         722   \n35                         22915                   52         616   \n...                          ...                  ...         ...   \n23051                      20216                   30       10811   \n23056                      31149                   22       11385   \n23072                      12303                   27       12395   \n23073                      10560                   35       11105   \n23074                      31030                   17        8666   \n\n      Treated_with_drugs  Patient_Age  Patient_Body_Mass_Index Patient_Smoker  \\\n4                   DX1           128                 1.348400            YES   \n21                   DX6            3                20.541924             NO   \n32                  DX5            58                18.477448             NO   \n34                  DX4            62                18.500535            YES   \n35                   DX6           31                28.168665            YES   \n...                  ...          ...                      ...            ...   \n23051       DX1 DX2 DX5            49                26.630933             NO   \n23056               DX1            26                25.737911            YES   \n23072           DX2 DX5            30                24.407543             NO   \n23073                DX6           60                24.368056             NO   \n23074                DX6            9                23.112866             NO   \n\n      Patient_Rural_Urban Patient_mental_condition    A    B    C    D    E  \\\n4                   RURAL                   Stable  0.0  0.0  0.0  0.0  0.0   \n21                  URBAN                   Stable  0.0  1.0  0.0  0.0  1.0   \n32                  RURAL                   Stable  0.0  0.0  0.0  0.0  1.0   \n34                  RURAL                   Stable  0.0  1.0  0.0  0.0  0.0   \n35                  RURAL                   Stable  0.0  0.0  0.0  0.0  1.0   \n...                   ...                      ...  ...  ...  ...  ...  ...   \n23051               RURAL                   Stable  0.0  0.0  0.0  0.0  1.0   \n23056               RURAL                   Stable  0.0  0.0  1.0  0.0  1.0   \n23072               RURAL                   Stable  0.0  0.0  0.0  0.0  1.0   \n23073               URBAN                   Stable  0.0  0.0  0.0  1.0  0.0   \n23074               URBAN                   Stable  0.0  0.0  1.0  0.0  0.0   \n\n         F    Z  Number_of_prev_cond  Survived_1_year  \n4      0.0  1.0                  1.0                1  \n21     0.0  0.0                  2.0                1  \n32     0.0  0.0                  1.0                1  \n34     1.0  0.0                  2.0                0  \n35     0.0  0.0                  1.0                0  \n...    ...  ...                  ...              ...  \n23051  0.0  0.0                  1.0                1  \n23056  0.0  0.0                  2.0                1  \n23072  0.0  0.0                  1.0                1  \n23073  0.0  0.0                  1.0                0  \n23074  0.0  0.0                  1.0                1  \n\n[2359 rows x 18 columns]",
      "text/html": "<div>\n<style scoped>\n    .dataframe tbody tr th:only-of-type {\n        vertical-align: middle;\n    }\n\n    .dataframe tbody tr th {\n        vertical-align: top;\n    }\n\n    .dataframe thead th {\n        text-align: right;\n    }\n</style>\n<table border=\"1\" class=\"dataframe\">\n  <thead>\n    <tr style=\"text-align: right;\">\n      <th></th>\n      <th>ID_Patient_Care_Situation</th>\n      <th>Diagnosed_Condition</th>\n      <th>Patient_ID</th>\n      <th>Treated_with_drugs</th>\n      <th>Patient_Age</th>\n      <th>Patient_Body_Mass_Index</th>\n      <th>Patient_Smoker</th>\n      <th>Patient_Rural_Urban</th>\n      <th>Patient_mental_condition</th>\n      <th>A</th>\n      <th>B</th>\n      <th>C</th>\n      <th>D</th>\n      <th>E</th>\n      <th>F</th>\n      <th>Z</th>\n      <th>Number_of_prev_cond</th>\n      <th>Survived_1_year</th>\n    </tr>\n  </thead>\n  <tbody>\n    <tr>\n      <th>4</th>\n      <td>33012</td>\n      <td>0</td>\n      <td>12513</td>\n      <td>DX1</td>\n      <td>128</td>\n      <td>1.348400</td>\n      <td>YES</td>\n      <td>RURAL</td>\n      <td>Stable</td>\n      <td>0.0</td>\n      <td>0.0</td>\n      <td>0.0</td>\n      <td>0.0</td>\n      <td>0.0</td>\n      <td>0.0</td>\n      <td>1.0</td>\n      <td>1.0</td>\n      <td>1</td>\n    </tr>\n    <tr>\n      <th>21</th>\n      <td>27197</td>\n      <td>14</td>\n      <td>2609</td>\n      <td>DX6</td>\n      <td>3</td>\n      <td>20.541924</td>\n      <td>NO</td>\n      <td>URBAN</td>\n      <td>Stable</td>\n      <td>0.0</td>\n      <td>1.0</td>\n      <td>0.0</td>\n      <td>0.0</td>\n      <td>1.0</td>\n      <td>0.0</td>\n      <td>0.0</td>\n      <td>2.0</td>\n      <td>1</td>\n    </tr>\n    <tr>\n      <th>32</th>\n      <td>8165</td>\n      <td>40</td>\n      <td>8908</td>\n      <td>DX5</td>\n      <td>58</td>\n      <td>18.477448</td>\n      <td>NO</td>\n      <td>RURAL</td>\n      <td>Stable</td>\n      <td>0.0</td>\n      <td>0.0</td>\n      <td>0.0</td>\n      <td>0.0</td>\n      <td>1.0</td>\n      <td>0.0</td>\n      <td>0.0</td>\n      <td>1.0</td>\n      <td>1</td>\n    </tr>\n    <tr>\n      <th>34</th>\n      <td>18320</td>\n      <td>48</td>\n      <td>722</td>\n      <td>DX4</td>\n      <td>62</td>\n      <td>18.500535</td>\n      <td>YES</td>\n      <td>RURAL</td>\n      <td>Stable</td>\n      <td>0.0</td>\n      <td>1.0</td>\n      <td>0.0</td>\n      <td>0.0</td>\n      <td>0.0</td>\n      <td>1.0</td>\n      <td>0.0</td>\n      <td>2.0</td>\n      <td>0</td>\n    </tr>\n    <tr>\n      <th>35</th>\n      <td>22915</td>\n      <td>52</td>\n      <td>616</td>\n      <td>DX6</td>\n      <td>31</td>\n      <td>28.168665</td>\n      <td>YES</td>\n      <td>RURAL</td>\n      <td>Stable</td>\n      <td>0.0</td>\n      <td>0.0</td>\n      <td>0.0</td>\n      <td>0.0</td>\n      <td>1.0</td>\n      <td>0.0</td>\n      <td>0.0</td>\n      <td>1.0</td>\n      <td>0</td>\n    </tr>\n    <tr>\n      <th>...</th>\n      <td>...</td>\n      <td>...</td>\n      <td>...</td>\n      <td>...</td>\n      <td>...</td>\n      <td>...</td>\n      <td>...</td>\n      <td>...</td>\n      <td>...</td>\n      <td>...</td>\n      <td>...</td>\n      <td>...</td>\n      <td>...</td>\n      <td>...</td>\n      <td>...</td>\n      <td>...</td>\n      <td>...</td>\n      <td>...</td>\n    </tr>\n    <tr>\n      <th>23051</th>\n      <td>20216</td>\n      <td>30</td>\n      <td>10811</td>\n      <td>DX1 DX2 DX5</td>\n      <td>49</td>\n      <td>26.630933</td>\n      <td>NO</td>\n      <td>RURAL</td>\n      <td>Stable</td>\n      <td>0.0</td>\n      <td>0.0</td>\n      <td>0.0</td>\n      <td>0.0</td>\n      <td>1.0</td>\n      <td>0.0</td>\n      <td>0.0</td>\n      <td>1.0</td>\n      <td>1</td>\n    </tr>\n    <tr>\n      <th>23056</th>\n      <td>31149</td>\n      <td>22</td>\n      <td>11385</td>\n      <td>DX1</td>\n      <td>26</td>\n      <td>25.737911</td>\n      <td>YES</td>\n      <td>RURAL</td>\n      <td>Stable</td>\n      <td>0.0</td>\n      <td>0.0</td>\n      <td>1.0</td>\n      <td>0.0</td>\n      <td>1.0</td>\n      <td>0.0</td>\n      <td>0.0</td>\n      <td>2.0</td>\n      <td>1</td>\n    </tr>\n    <tr>\n      <th>23072</th>\n      <td>12303</td>\n      <td>27</td>\n      <td>12395</td>\n      <td>DX2 DX5</td>\n      <td>30</td>\n      <td>24.407543</td>\n      <td>NO</td>\n      <td>RURAL</td>\n      <td>Stable</td>\n      <td>0.0</td>\n      <td>0.0</td>\n      <td>0.0</td>\n      <td>0.0</td>\n      <td>1.0</td>\n      <td>0.0</td>\n      <td>0.0</td>\n      <td>1.0</td>\n      <td>1</td>\n    </tr>\n    <tr>\n      <th>23073</th>\n      <td>10560</td>\n      <td>35</td>\n      <td>11105</td>\n      <td>DX6</td>\n      <td>60</td>\n      <td>24.368056</td>\n      <td>NO</td>\n      <td>URBAN</td>\n      <td>Stable</td>\n      <td>0.0</td>\n      <td>0.0</td>\n      <td>0.0</td>\n      <td>1.0</td>\n      <td>0.0</td>\n      <td>0.0</td>\n      <td>0.0</td>\n      <td>1.0</td>\n      <td>0</td>\n    </tr>\n    <tr>\n      <th>23074</th>\n      <td>31030</td>\n      <td>17</td>\n      <td>8666</td>\n      <td>DX6</td>\n      <td>9</td>\n      <td>23.112866</td>\n      <td>NO</td>\n      <td>URBAN</td>\n      <td>Stable</td>\n      <td>0.0</td>\n      <td>0.0</td>\n      <td>1.0</td>\n      <td>0.0</td>\n      <td>0.0</td>\n      <td>0.0</td>\n      <td>0.0</td>\n      <td>1.0</td>\n      <td>1</td>\n    </tr>\n  </tbody>\n</table>\n<p>2359 rows × 18 columns</p>\n</div>"
     },
     "execution_count": 22,
     "metadata": {},
     "output_type": "execute_result"
    }
   ],
   "source": [
    "pharma_data[pharma_data.A == 0]"
   ]
  },
  {
   "cell_type": "code",
   "execution_count": 22,
   "metadata": {
    "collapsed": false,
    "pycharm": {
     "name": "#%%\n"
    }
   },
   "outputs": [],
   "source": []
  },
  {
   "cell_type": "markdown",
   "metadata": {
    "collapsed": false,
    "pycharm": {
     "name": "#%% md\n"
    }
   },
   "source": [
    "## 6. Patient Age"
   ]
  },
  {
   "cell_type": "code",
   "execution_count": 23,
   "metadata": {
    "collapsed": false,
    "pycharm": {
     "name": "#%%\n"
    }
   },
   "outputs": [
    {
     "data": {
      "text/plain": "       Survived  Died\n0           NaN   8.0\n1           5.0   NaN\n2           NaN  23.0\n3          51.0   NaN\n4           0.0   NaN\n...         ...   ...\n23092       NaN   3.0\n23093      41.0   NaN\n23094       NaN  24.0\n23095      11.0   NaN\n23096       NaN  21.0\n\n[23097 rows x 2 columns]",
      "text/html": "<div>\n<style scoped>\n    .dataframe tbody tr th:only-of-type {\n        vertical-align: middle;\n    }\n\n    .dataframe tbody tr th {\n        vertical-align: top;\n    }\n\n    .dataframe thead th {\n        text-align: right;\n    }\n</style>\n<table border=\"1\" class=\"dataframe\">\n  <thead>\n    <tr style=\"text-align: right;\">\n      <th></th>\n      <th>Survived</th>\n      <th>Died</th>\n    </tr>\n  </thead>\n  <tbody>\n    <tr>\n      <th>0</th>\n      <td>NaN</td>\n      <td>8.0</td>\n    </tr>\n    <tr>\n      <th>1</th>\n      <td>5.0</td>\n      <td>NaN</td>\n    </tr>\n    <tr>\n      <th>2</th>\n      <td>NaN</td>\n      <td>23.0</td>\n    </tr>\n    <tr>\n      <th>3</th>\n      <td>51.0</td>\n      <td>NaN</td>\n    </tr>\n    <tr>\n      <th>4</th>\n      <td>0.0</td>\n      <td>NaN</td>\n    </tr>\n    <tr>\n      <th>...</th>\n      <td>...</td>\n      <td>...</td>\n    </tr>\n    <tr>\n      <th>23092</th>\n      <td>NaN</td>\n      <td>3.0</td>\n    </tr>\n    <tr>\n      <th>23093</th>\n      <td>41.0</td>\n      <td>NaN</td>\n    </tr>\n    <tr>\n      <th>23094</th>\n      <td>NaN</td>\n      <td>24.0</td>\n    </tr>\n    <tr>\n      <th>23095</th>\n      <td>11.0</td>\n      <td>NaN</td>\n    </tr>\n    <tr>\n      <th>23096</th>\n      <td>NaN</td>\n      <td>21.0</td>\n    </tr>\n  </tbody>\n</table>\n<p>23097 rows × 2 columns</p>\n</div>"
     },
     "execution_count": 23,
     "metadata": {},
     "output_type": "execute_result"
    }
   ],
   "source": [
    "age = pharma_data[[\"ID_Patient_Care_Situation\",\"Diagnosed_Condition\",\"Survived_1_year\"]]\n",
    "age.columns = [\"id\",\"Age\",\"Survival\"]\n",
    "age = pd.DataFrame({\"Survived\":age[age[\"Survival\"]==1][\"Age\"],\n",
    "                     \"Died\":age[age[\"Survival\"]==0][\"Age\"]\n",
    "\n",
    "})\n",
    "age"
   ]
  },
  {
   "cell_type": "code",
   "execution_count": 24,
   "metadata": {
    "collapsed": false,
    "pycharm": {
     "name": "#%%\n"
    }
   },
   "outputs": [
    {
     "data": {
      "text/plain": "<Figure size 640x480 with 1 Axes>",
      "image/png": "[encoded data removed]"
     },
     "metadata": {},
     "output_type": "display_data"
    }
   ],
   "source": [
    "age[[\"Survived\",\"Died\"]].plot.hist(stacked = True)\n",
    "plt.xlabel(\"Age\")\n",
    "plt.show()"
   ]
  },
  {
   "cell_type": "code",
   "execution_count": 25,
   "metadata": {
    "collapsed": false,
    "pycharm": {
     "name": "#%%\n"
    }
   },
   "outputs": [],
   "source": [
    "#We will annotate to see which condition has the most survivors"
   ]
  },
  {
   "cell_type": "markdown",
   "metadata": {
    "collapsed": false,
    "pycharm": {
     "name": "#%% md\n"
    }
   },
   "source": [
    "## 7.Treated with Drugs"
   ]
  },
  {
   "cell_type": "code",
   "execution_count": 26,
   "metadata": {
    "collapsed": false,
    "pycharm": {
     "name": "#%%\n"
    }
   },
   "outputs": [
    {
     "data": {
      "text/plain": "      Survived      Died\n0          NaN       DX6\n1         DX2        NaN\n2          NaN       DX6\n3         DX1        NaN\n4         DX1        NaN\n...        ...       ...\n23092      NaN  DX2 DX4 \n23093      DX6       NaN\n23094      NaN       DX6\n23095     DX3        NaN\n23096      NaN       DX6\n\n[23097 rows x 2 columns]",
      "text/html": "<div>\n<style scoped>\n    .dataframe tbody tr th:only-of-type {\n        vertical-align: middle;\n    }\n\n    .dataframe tbody tr th {\n        vertical-align: top;\n    }\n\n    .dataframe thead th {\n        text-align: right;\n    }\n</style>\n<table border=\"1\" class=\"dataframe\">\n  <thead>\n    <tr style=\"text-align: right;\">\n      <th></th>\n      <th>Survived</th>\n      <th>Died</th>\n    </tr>\n  </thead>\n  <tbody>\n    <tr>\n      <th>0</th>\n      <td>NaN</td>\n      <td>DX6</td>\n    </tr>\n    <tr>\n      <th>1</th>\n      <td>DX2</td>\n      <td>NaN</td>\n    </tr>\n    <tr>\n      <th>2</th>\n      <td>NaN</td>\n      <td>DX6</td>\n    </tr>\n    <tr>\n      <th>3</th>\n      <td>DX1</td>\n      <td>NaN</td>\n    </tr>\n    <tr>\n      <th>4</th>\n      <td>DX1</td>\n      <td>NaN</td>\n    </tr>\n    <tr>\n      <th>...</th>\n      <td>...</td>\n      <td>...</td>\n    </tr>\n    <tr>\n      <th>23092</th>\n      <td>NaN</td>\n      <td>DX2 DX4</td>\n    </tr>\n    <tr>\n      <th>23093</th>\n      <td>DX6</td>\n      <td>NaN</td>\n    </tr>\n    <tr>\n      <th>23094</th>\n      <td>NaN</td>\n      <td>DX6</td>\n    </tr>\n    <tr>\n      <th>23095</th>\n      <td>DX3</td>\n      <td>NaN</td>\n    </tr>\n    <tr>\n      <th>23096</th>\n      <td>NaN</td>\n      <td>DX6</td>\n    </tr>\n  </tbody>\n</table>\n<p>23097 rows × 2 columns</p>\n</div>"
     },
     "execution_count": 26,
     "metadata": {},
     "output_type": "execute_result"
    }
   ],
   "source": [
    "drugs = pharma_data[[\"ID_Patient_Care_Situation\",\"Treated_with_drugs\",\"Survived_1_year\"]]\n",
    "drugs.columns = [\"id\",\"Treated_with_drugs\",\"Survival\"]\n",
    "drugs = pd.DataFrame({\"Survived\":drugs[drugs[\"Survival\"]==1][\"Treated_with_drugs\"],\n",
    "                    \"Died\":drugs[drugs[\"Survival\"]==0][\"Treated_with_drugs\"]\n",
    "\n",
    "})\n",
    "drugs"
   ]
  },
  {
   "cell_type": "code",
   "execution_count": 27,
   "metadata": {
    "collapsed": false,
    "pycharm": {
     "name": "#%%\n"
    }
   },
   "outputs": [
    {
     "ename": "TypeError",
     "evalue": "no numeric data to plot",
     "output_type": "error",
     "traceback": [
      "\u001B[1;31m---------------------------------------------------------------------------\u001B[0m",
      "\u001B[1;31mTypeError\u001B[0m                                 Traceback (most recent call last)",
      "Cell \u001B[1;32mIn [27], line 1\u001B[0m\n\u001B[1;32m----> 1\u001B[0m \u001B[43mdrugs\u001B[49m\u001B[43m[\u001B[49m\u001B[43m[\u001B[49m\u001B[38;5;124;43m\"\u001B[39;49m\u001B[38;5;124;43mSurvived\u001B[39;49m\u001B[38;5;124;43m\"\u001B[39;49m\u001B[43m,\u001B[49m\u001B[38;5;124;43m\"\u001B[39;49m\u001B[38;5;124;43mDied\u001B[39;49m\u001B[38;5;124;43m\"\u001B[39;49m\u001B[43m]\u001B[49m\u001B[43m]\u001B[49m\u001B[38;5;241;43m.\u001B[39;49m\u001B[43mplot\u001B[49m\u001B[38;5;241;43m.\u001B[39;49m\u001B[43mhist\u001B[49m\u001B[43m(\u001B[49m\u001B[43mstacked\u001B[49m\u001B[43m \u001B[49m\u001B[38;5;241;43m=\u001B[39;49m\u001B[43m \u001B[49m\u001B[38;5;28;43;01mTrue\u001B[39;49;00m\u001B[43m)\u001B[49m\n\u001B[0;32m      2\u001B[0m plt\u001B[38;5;241m.\u001B[39mxlabel(\u001B[38;5;124m\"\u001B[39m\u001B[38;5;124mDiagnosed Condition\u001B[39m\u001B[38;5;124m\"\u001B[39m)\n\u001B[0;32m      3\u001B[0m plt\u001B[38;5;241m.\u001B[39mshow()\n",
      "File \u001B[1;32m~\\AppData\\Local\\Programs\\Python\\Python38\\lib\\site-packages\\pandas\\plotting\\_core.py:1346\u001B[0m, in \u001B[0;36mPlotAccessor.hist\u001B[1;34m(self, by, bins, **kwargs)\u001B[0m\n\u001B[0;32m   1286\u001B[0m \u001B[38;5;28;01mdef\u001B[39;00m \u001B[38;5;21mhist\u001B[39m(\u001B[38;5;28mself\u001B[39m, by\u001B[38;5;241m=\u001B[39m\u001B[38;5;28;01mNone\u001B[39;00m, bins\u001B[38;5;241m=\u001B[39m\u001B[38;5;241m10\u001B[39m, \u001B[38;5;241m*\u001B[39m\u001B[38;5;241m*\u001B[39mkwargs):\n\u001B[0;32m   1287\u001B[0m     \u001B[38;5;124;03m\"\"\"\u001B[39;00m\n\u001B[0;32m   1288\u001B[0m \u001B[38;5;124;03m    Draw one histogram of the DataFrame's columns.\u001B[39;00m\n\u001B[0;32m   1289\u001B[0m \n\u001B[1;32m   (...)\u001B[0m\n\u001B[0;32m   1344\u001B[0m \u001B[38;5;124;03m        >>> ax = df.plot.hist(column=[\"age\"], by=\"gender\", figsize=(10, 8))\u001B[39;00m\n\u001B[0;32m   1345\u001B[0m \u001B[38;5;124;03m    \"\"\"\u001B[39;00m\n\u001B[1;32m-> 1346\u001B[0m     \u001B[38;5;28;01mreturn\u001B[39;00m \u001B[38;5;28;43mself\u001B[39;49m\u001B[43m(\u001B[49m\u001B[43mkind\u001B[49m\u001B[38;5;241;43m=\u001B[39;49m\u001B[38;5;124;43m\"\u001B[39;49m\u001B[38;5;124;43mhist\u001B[39;49m\u001B[38;5;124;43m\"\u001B[39;49m\u001B[43m,\u001B[49m\u001B[43m \u001B[49m\u001B[43mby\u001B[49m\u001B[38;5;241;43m=\u001B[39;49m\u001B[43mby\u001B[49m\u001B[43m,\u001B[49m\u001B[43m \u001B[49m\u001B[43mbins\u001B[49m\u001B[38;5;241;43m=\u001B[39;49m\u001B[43mbins\u001B[49m\u001B[43m,\u001B[49m\u001B[43m \u001B[49m\u001B[38;5;241;43m*\u001B[39;49m\u001B[38;5;241;43m*\u001B[39;49m\u001B[43mkwargs\u001B[49m\u001B[43m)\u001B[49m\n",
      "File \u001B[1;32m~\\AppData\\Local\\Programs\\Python\\Python38\\lib\\site-packages\\pandas\\plotting\\_core.py:972\u001B[0m, in \u001B[0;36mPlotAccessor.__call__\u001B[1;34m(self, *args, **kwargs)\u001B[0m\n\u001B[0;32m    969\u001B[0m             label_name \u001B[38;5;241m=\u001B[39m label_kw \u001B[38;5;129;01mor\u001B[39;00m data\u001B[38;5;241m.\u001B[39mcolumns\n\u001B[0;32m    970\u001B[0m             data\u001B[38;5;241m.\u001B[39mcolumns \u001B[38;5;241m=\u001B[39m label_name\n\u001B[1;32m--> 972\u001B[0m \u001B[38;5;28;01mreturn\u001B[39;00m \u001B[43mplot_backend\u001B[49m\u001B[38;5;241;43m.\u001B[39;49m\u001B[43mplot\u001B[49m\u001B[43m(\u001B[49m\u001B[43mdata\u001B[49m\u001B[43m,\u001B[49m\u001B[43m \u001B[49m\u001B[43mkind\u001B[49m\u001B[38;5;241;43m=\u001B[39;49m\u001B[43mkind\u001B[49m\u001B[43m,\u001B[49m\u001B[43m \u001B[49m\u001B[38;5;241;43m*\u001B[39;49m\u001B[38;5;241;43m*\u001B[39;49m\u001B[43mkwargs\u001B[49m\u001B[43m)\u001B[49m\n",
      "File \u001B[1;32m~\\AppData\\Local\\Programs\\Python\\Python38\\lib\\site-packages\\pandas\\plotting\\_matplotlib\\__init__.py:71\u001B[0m, in \u001B[0;36mplot\u001B[1;34m(data, kind, **kwargs)\u001B[0m\n\u001B[0;32m     69\u001B[0m         kwargs[\u001B[38;5;124m\"\u001B[39m\u001B[38;5;124max\u001B[39m\u001B[38;5;124m\"\u001B[39m] \u001B[38;5;241m=\u001B[39m \u001B[38;5;28mgetattr\u001B[39m(ax, \u001B[38;5;124m\"\u001B[39m\u001B[38;5;124mleft_ax\u001B[39m\u001B[38;5;124m\"\u001B[39m, ax)\n\u001B[0;32m     70\u001B[0m plot_obj \u001B[38;5;241m=\u001B[39m PLOT_CLASSES[kind](data, \u001B[38;5;241m*\u001B[39m\u001B[38;5;241m*\u001B[39mkwargs)\n\u001B[1;32m---> 71\u001B[0m \u001B[43mplot_obj\u001B[49m\u001B[38;5;241;43m.\u001B[39;49m\u001B[43mgenerate\u001B[49m\u001B[43m(\u001B[49m\u001B[43m)\u001B[49m\n\u001B[0;32m     72\u001B[0m plot_obj\u001B[38;5;241m.\u001B[39mdraw()\n\u001B[0;32m     73\u001B[0m \u001B[38;5;28;01mreturn\u001B[39;00m plot_obj\u001B[38;5;241m.\u001B[39mresult\n",
      "File \u001B[1;32m~\\AppData\\Local\\Programs\\Python\\Python38\\lib\\site-packages\\pandas\\plotting\\_matplotlib\\core.py:327\u001B[0m, in \u001B[0;36mMPLPlot.generate\u001B[1;34m(self)\u001B[0m\n\u001B[0;32m    325\u001B[0m \u001B[38;5;28;01mdef\u001B[39;00m \u001B[38;5;21mgenerate\u001B[39m(\u001B[38;5;28mself\u001B[39m):\n\u001B[0;32m    326\u001B[0m     \u001B[38;5;28mself\u001B[39m\u001B[38;5;241m.\u001B[39m_args_adjust()\n\u001B[1;32m--> 327\u001B[0m     \u001B[38;5;28;43mself\u001B[39;49m\u001B[38;5;241;43m.\u001B[39;49m\u001B[43m_compute_plot_data\u001B[49m\u001B[43m(\u001B[49m\u001B[43m)\u001B[49m\n\u001B[0;32m    328\u001B[0m     \u001B[38;5;28mself\u001B[39m\u001B[38;5;241m.\u001B[39m_setup_subplots()\n\u001B[0;32m    329\u001B[0m     \u001B[38;5;28mself\u001B[39m\u001B[38;5;241m.\u001B[39m_make_plot()\n",
      "File \u001B[1;32m~\\AppData\\Local\\Programs\\Python\\Python38\\lib\\site-packages\\pandas\\plotting\\_matplotlib\\core.py:506\u001B[0m, in \u001B[0;36mMPLPlot._compute_plot_data\u001B[1;34m(self)\u001B[0m\n\u001B[0;32m    504\u001B[0m \u001B[38;5;66;03m# no non-numeric frames or series allowed\u001B[39;00m\n\u001B[0;32m    505\u001B[0m \u001B[38;5;28;01mif\u001B[39;00m is_empty:\n\u001B[1;32m--> 506\u001B[0m     \u001B[38;5;28;01mraise\u001B[39;00m \u001B[38;5;167;01mTypeError\u001B[39;00m(\u001B[38;5;124m\"\u001B[39m\u001B[38;5;124mno numeric data to plot\u001B[39m\u001B[38;5;124m\"\u001B[39m)\n\u001B[0;32m    508\u001B[0m \u001B[38;5;28mself\u001B[39m\u001B[38;5;241m.\u001B[39mdata \u001B[38;5;241m=\u001B[39m numeric_data\u001B[38;5;241m.\u001B[39mapply(\u001B[38;5;28mself\u001B[39m\u001B[38;5;241m.\u001B[39m_convert_to_ndarray)\n",
      "\u001B[1;31mTypeError\u001B[0m: no numeric data to plot"
     ]
    }
   ],
   "source": [
    "drugs[[\"Survived\",\"Died\"]].plot.hist(stacked = True)\n",
    "plt.xlabel(\"Diagnosed Condition\")\n",
    "plt.show()"
   ]
  },
  {
   "cell_type": "code",
   "execution_count": null,
   "metadata": {
    "collapsed": false,
    "pycharm": {
     "name": "#%%\n"
    }
   },
   "outputs": [],
   "source": [
    "pharma_data.Treated_with_drugs.value_counts()"
   ]
  },
  {
   "cell_type": "markdown",
   "metadata": {
    "collapsed": false,
    "pycharm": {
     "name": "#%% md\n"
    }
   },
   "source": [
    "## 8. Patient ID"
   ]
  },
  {
   "cell_type": "code",
   "execution_count": null,
   "metadata": {
    "collapsed": false,
    "pycharm": {
     "name": "#%%\n"
    }
   },
   "outputs": [],
   "source": [
    "p_id = pharma_data[[\"ID_Patient_Care_Situation\",\"Patient_ID\",\"Survived_1_year\"]]\n",
    "p_id.columns = [\"id\",\"Patient_ID\",\"Survival\"]\n",
    "p_id = pd.DataFrame({\"Survived\":p_id[p_id[\"Survival\"]==1][\"Patient_ID\"],\n",
    "                      \"Died\":p_id[p_id[\"Survival\"]==0][\"Patient_ID\"]\n",
    "\n",
    "                      })\n",
    "p_id"
   ]
  },
  {
   "cell_type": "code",
   "execution_count": null,
   "metadata": {
    "collapsed": false,
    "pycharm": {
     "name": "#%%\n"
    }
   },
   "outputs": [],
   "source": [
    "p_id[[\"Survived\",\"Died\"]].plot.hist(stacked = True)\n",
    "plt.xlabel(\"Diagnosed Condition\")\n",
    "plt.show()"
   ]
  },
  {
   "cell_type": "markdown",
   "metadata": {
    "collapsed": false,
    "pycharm": {
     "name": "#%% md\n"
    }
   },
   "source": [
    "## 9. Body Mass Ratio"
   ]
  },
  {
   "cell_type": "code",
   "execution_count": null,
   "metadata": {
    "collapsed": false,
    "pycharm": {
     "name": "#%%\n"
    }
   },
   "outputs": [],
   "source": [
    "bmr = pharma_data[[\"ID_Patient_Care_Situation\",\"Patient_Body_Mass_Index\",\"Survived_1_year\"]]\n",
    "bmr.columns = [\"id\",\"Patient_Body_Mass_Index\",\"Survival\"]\n",
    "bmr = pd.DataFrame({\"Survived\":bmr[bmr[\"Survival\"]==1][\"Patient_Body_Mass_Index\"],\n",
    "                     \"Died\":bmr[bmr[\"Survival\"]==0][\"Patient_Body_Mass_Index\"]\n",
    "\n",
    "                     })\n",
    "bmr"
   ]
  },
  {
   "cell_type": "code",
   "execution_count": null,
   "metadata": {
    "collapsed": false,
    "pycharm": {
     "name": "#%%\n"
    }
   },
   "outputs": [],
   "source": [
    "bmr[[\"Survived\",\"Died\"]].plot.hist(stacked = True)\n",
    "plt.xlabel(\"Patient_Body_Mass_Index\")\n",
    "plt.show()"
   ]
  }
 ],
 "metadata": {
  "kernelspec": {
   "display_name": "Python 3.8.4 64-bit",
   "language": "python",
   "name": "python3"
  },
  "language_info": {
   "codemirror_mode": {
    "name": "ipython",
    "version": 3
   },
   "file_extension": ".py",
   "mimetype": "text/x-python",
   "name": "python",
   "nbconvert_exporter": "python",
   "pygments_lexer": "ipython3",
   "version": "3.8.4"
  },
  "vscode": {
   "interpreter": {
    "hash": "99af3e640fd4e474a589badeb2298da6e916bd1eef1cfdb1d4d8a7dbe00511e5"
   }
  }
 },
 "nbformat": 4,
 "nbformat_minor": 0
}